{
 "cells": [
  {
   "cell_type": "markdown",
   "metadata": {},
   "source": [
    "## Dataset Processing\n",
    "\n",
    "**Karina Huang, Lipika Ramaswamy**\n",
    "\n",
    "**Apr 28, 2019**\n",
    "\n",
    "---"
   ]
  },
  {
   "cell_type": "markdown",
   "metadata": {},
   "source": [
    "This notebook processed the data into train and test data. We first get the clean records based on exploratory analysis reported in `na_check.ipynb`, and randomly selected rows for test and train using a binomial process. The resulting test dataset size is 0.2 of the cleaned data. "
   ]
  },
  {
   "cell_type": "code",
   "execution_count": 1,
   "metadata": {},
   "outputs": [],
   "source": [
    "#import packages\n",
    "import csv\n",
    "import re\n",
    "import numpy as np\n",
    "from math import floor\n",
    "from sklearn.model_selection import train_test_split"
   ]
  },
  {
   "cell_type": "code",
   "execution_count": 2,
   "metadata": {},
   "outputs": [],
   "source": [
    "#index of columns of interest\n",
    "#see na_check for detail\n",
    "idxUSE = [0, 8, 21, 22, 23, 29, 24, 30, 32, 33, 75, 39]"
   ]
  },
  {
   "cell_type": "code",
   "execution_count": 3,
   "metadata": {},
   "outputs": [],
   "source": [
    "def getCourseCat(course):\n",
    "    '''get course category/department'''\n",
    "    catL = re.search('[a-zA-Z]*', course)[0]\n",
    "    catN = re.search('[0-9]*', course)[0]\n",
    "    if catL != '':\n",
    "        return catL\n",
    "    else:\n",
    "        return catN"
   ]
  },
  {
   "cell_type": "code",
   "execution_count": 5,
   "metadata": {},
   "outputs": [],
   "source": [
    "#get rows with clean data\n",
    "cntClean = 0 #initiate count for csv files\n",
    "with open('../../data/cleanData.csv', 'w') as cleanData, open('../../data/test_data.csv', 'r') as data:\n",
    "    \n",
    "    #prep reader and writer object\n",
    "    r = csv.reader(data)\n",
    "    w1 = csv.writer(cleanData)\n",
    "    \n",
    "    #iterate through data file \n",
    "    #write complete records into cleanData.csv\n",
    "    for row in r:\n",
    "        cols = [row[i] for i in idxUSE]\n",
    "        try:\n",
    "            cols[0] = cols[0].split('/')[1]\n",
    "            cols[0] = getCourseCat(cols[0])\n",
    "        except:\n",
    "            cols = cols\n",
    "        if '' not in cols:\n",
    "            if 'NaN' not in cols:\n",
    "                w1.writerow(cols)\n",
    "                cntClean += 1"
   ]
  },
  {
   "cell_type": "code",
   "execution_count": 6,
   "metadata": {},
   "outputs": [
    {
     "name": "stdout",
     "output_type": "stream",
     "text": [
      "Number of clean records:  183627\n"
     ]
    }
   ],
   "source": [
    "print('Number of clean records: ', cntClean-1) #minus one to discount header row"
   ]
  },
  {
   "cell_type": "code",
   "execution_count": 8,
   "metadata": {
    "scrolled": true
   },
   "outputs": [],
   "source": [
    "# #split data into train and test csv\n",
    "# cnt = 0 #initiate count to track progress\n",
    "# cntTest = 0 #initiate count to track number of observation in test\n",
    "# with open('data/train.csv', 'w') as dTrain, open ('data/test.csv', 'w') as dTest, open('data/cleanData.csv', 'r') as data:\n",
    "    \n",
    "#     #prep reader and writer object\n",
    "#     r = csv.reader(data)\n",
    "#     w1 = csv.writer(dTrain)\n",
    "#     w2 = csv.writer(dTest)\n",
    "    \n",
    "#     #iterate through data file \n",
    "#     #write into train and test csv\n",
    "#     for row in r:\n",
    "#         if cnt == 0:\n",
    "#             w1.writerow(row)\n",
    "#             w2.writerow(row)\n",
    "#             cnt += 1\n",
    "#         else:\n",
    "#             #coin flip decision\n",
    "#             flip = np.random.binomial(1, 0.8)\n",
    "#             if flip == 1:\n",
    "#                 w1.writerow(row)\n",
    "#                 cnt += 1\n",
    "#             if flip == 0:\n",
    "#                 if cntTest < floor(0.2*(cntClean-1)):\n",
    "#                     w2.writerow(row)\n",
    "#                     cnt += 1\n",
    "#                 else:\n",
    "#                     w1.writerow(row)\n",
    "#                     cnt += 1\n",
    "                  \n",
    "#         #track progress\n",
    "#         if cnt%100000 == 0:\n",
    "#             print(cnt//100000)"
   ]
  }
 ],
 "metadata": {
  "kernelspec": {
   "display_name": "Python 3",
   "language": "python",
   "name": "python3"
  },
  "language_info": {
   "codemirror_mode": {
    "name": "ipython",
    "version": 3
   },
   "file_extension": ".py",
   "mimetype": "text/x-python",
   "name": "python",
   "nbconvert_exporter": "python",
   "pygments_lexer": "ipython3",
   "version": "3.6.7"
  }
 },
 "nbformat": 4,
 "nbformat_minor": 2
}
