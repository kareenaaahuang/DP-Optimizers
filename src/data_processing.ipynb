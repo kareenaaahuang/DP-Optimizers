{
 "cells": [
  {
   "cell_type": "markdown",
   "metadata": {},
   "source": [
    "## Data Processing\n",
    "\n",
    "**Karina Huang, Lipika Ramaswamy**\n",
    "\n",
    "**Apr 28, 2019**\n",
    "\n",
    "---"
   ]
  },
  {
   "cell_type": "markdown",
   "metadata": {},
   "source": [
    "This notebook processed the data into train and test data. We first get the clean records based on exploratory analysis reported in `na_check.ipynb`, and randomly selected rows for test and train using a binomial process. The resulting test dataset size is 0.2 of the cleaned data. "
   ]
  },
  {
   "cell_type": "code",
   "execution_count": 1,
   "metadata": {},
   "outputs": [],
   "source": [
    "#import packages\n",
    "import csv\n",
    "import numpy as np\n",
    "from math import floor\n",
    "from sklearn.model_selection import train_test_split"
   ]
  },
  {
   "cell_type": "code",
   "execution_count": 2,
   "metadata": {},
   "outputs": [],
   "source": [
    "#index of columns of interest\n",
    "#see na_check for detail\n",
    "idxUSE = [0, 8, 21, 22, 23, 29, 24, 30, 32, 33, 75, 39]"
   ]
  },
  {
   "cell_type": "code",
   "execution_count": 6,
   "metadata": {},
   "outputs": [],
   "source": [
    "#get rows with clean data\n",
    "cntClean = 0 #initiate count for csv files\n",
    "with open('../data/cleanData_1.csv', 'w') as cleanData, open('../data/test_data.csv', 'r') as data:\n",
    "    \n",
    "    #prep reader and writer object\n",
    "    r = csv.reader(data)\n",
    "    w1 = csv.writer(cleanData)\n",
    "    \n",
    "    #iterate through data file \n",
    "    #write complete records into cleanData.csv\n",
    "    for row in r:\n",
    "        cols = [row[i] for i in idxUSE]\n",
    "        if '' not in cols:\n",
    "            w1.writerow(cols)\n",
    "            cntClean += 1"
   ]
  },
  {
   "cell_type": "code",
   "execution_count": 6,
   "metadata": {},
   "outputs": [
    {
     "name": "stdout",
     "output_type": "stream",
     "text": [
      "Number of clean records:  2790183\n"
     ]
    }
   ],
   "source": [
    "print('Number of clean records: ', cntClean-1) #minus one to discount header row"
   ]
  },
  {
   "cell_type": "code",
   "execution_count": 28,
   "metadata": {
    "scrolled": true
   },
   "outputs": [
    {
     "name": "stdout",
     "output_type": "stream",
     "text": [
      "1\n",
      "2\n",
      "3\n",
      "4\n",
      "5\n",
      "6\n",
      "7\n",
      "8\n",
      "9\n",
      "10\n",
      "11\n",
      "12\n",
      "13\n",
      "14\n",
      "15\n",
      "16\n",
      "17\n",
      "18\n",
      "19\n",
      "20\n",
      "21\n",
      "22\n",
      "23\n",
      "24\n",
      "25\n",
      "26\n",
      "27\n"
     ]
    }
   ],
   "source": [
    "#split data into train and test csv\n",
    "cnt = 0 #initiate count to track progress\n",
    "cntTest = 0 #initiate count to track number of observation in test\n",
    "with open('data/train.csv', 'w') as dTrain, open ('data/test.csv', 'w') as dTest, open('data/cleanData.csv', 'r') as data:\n",
    "    \n",
    "    #prep reader and writer object\n",
    "    r = csv.reader(data)\n",
    "    w1 = csv.writer(dTrain)\n",
    "    w2 = csv.writer(dTest)\n",
    "    \n",
    "    #iterate through data file \n",
    "    #write into train and test csv\n",
    "    for row in r:\n",
    "        if cnt == 0:\n",
    "            w1.writerow(row)\n",
    "            w2.writerow(row)\n",
    "            cnt += 1\n",
    "        else:\n",
    "            #coin flip decision\n",
    "            flip = np.random.binomial(1, 0.8)\n",
    "            if flip == 1:\n",
    "                w1.writerow(row)\n",
    "                cnt += 1\n",
    "            if flip == 0:\n",
    "                if cntTest < floor(0.2*(cntClean-1)):\n",
    "                    w2.writerow(row)\n",
    "                    cnt += 1\n",
    "                else:\n",
    "                    w1.writerow(row)\n",
    "                    cnt += 1\n",
    "                  \n",
    "        #track progress\n",
    "        if cnt%100000 == 0:\n",
    "            print(cnt//100000)"
   ]
  }
 ],
 "metadata": {
  "kernelspec": {
   "display_name": "Python 3",
   "language": "python",
   "name": "python3"
  },
  "language_info": {
   "codemirror_mode": {
    "name": "ipython",
    "version": 3
   },
   "file_extension": ".py",
   "mimetype": "text/x-python",
   "name": "python",
   "nbconvert_exporter": "python",
   "pygments_lexer": "ipython3",
   "version": "3.7.2"
  }
 },
 "nbformat": 4,
 "nbformat_minor": 2
}
