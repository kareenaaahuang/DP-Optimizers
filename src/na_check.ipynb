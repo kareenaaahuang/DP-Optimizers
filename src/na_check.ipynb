{
 "cells": [
  {
   "cell_type": "markdown",
   "metadata": {},
   "source": [
    "## Preprocessing: NA Check\n",
    "\n",
    "**Karina Huang, Lipika Ramaswamy**\n",
    "\n",
    "**Apr 28, 2019**\n",
    "\n",
    "---"
   ]
  },
  {
   "cell_type": "markdown",
   "metadata": {},
   "source": [
    "### Summary of Preprocessing Check\n",
    "\n",
    "This notebook checks for missing records in the complete dataset. For the sake of model fitting, we chose our final columns for model fitting based on the number of missing records in each of the columns. For all of the columns chosen ('course_id', 'cc_by_ip', 'LoE', 'YoB', 'gender', 'nevents', 'grade'), we kept only observations with all fields completed. The resulting data frame contained 2,790,183 out of the original 6,860,993 records. We account for this preprocessing choice in our final model interpretation. "
   ]
  },
  {
   "cell_type": "code",
   "execution_count": 1,
   "metadata": {},
   "outputs": [],
   "source": [
    "import csv\n",
    "import numpy as np"
   ]
  },
  {
   "cell_type": "code",
   "execution_count": 5,
   "metadata": {},
   "outputs": [
    {
     "name": "stdout",
     "output_type": "stream",
     "text": [
      "['course_id', 'user_id', 'registered', 'viewed', 'explored', 'certified', 'completed', 'ip', 'cc_by_ip', 'countryLabel', 'continent', 'city', 'region', 'subdivision', 'postalCode', 'un_major_region', 'un_economic_group', 'un_developing_nation', 'un_special_region', 'latitude', 'longitude', 'LoE', 'YoB', 'gender', 'grade', 'passing_grade', 'start_time', 'first_event', 'last_event', 'nevents', 'ndays_act', 'nplay_video', 'nchapters', 'nforum_posts', 'nforum_votes', 'nforum_endorsed', 'nforum_threads', 'nforum_comments', 'nforum_pinned', 'roles', 'nprogcheck', 'nproblem_check', 'nforum_events', 'mode', 'is_active', 'cert_created_date', 'cert_modified_date', 'cert_status', 'verified_enroll_time', 'verified_unenroll_time', 'profile_country', 'y1_anomalous', 'email_domain', 'language_brwsr', 'language_brwsr_country', 'language_brwsr_sec', 'language_brwsr_sec_country', 'language_brwsr_code', 'language_brwsr_subcode', 'language_brwsr_sec_code', 'language_brwsr_sec_subcode', 'language_brwsr_nevents', 'language_brwsr_ndiff', 'language', 'language_download', 'language_nevents', 'language_ndiff', 'ntranscript', 'nshow_answer', 'nvideo', 'nvideos_unique_viewed', 'nvideos_total_watched', 'nseq_goto', 'nseek_video', 'npause_video', 'avg_dt', 'sdv_dt', 'max_dt', 'n_dt', 'sum_dt', 'roles_isBetaTester', 'roles_isInstructor', 'roles_isStaff', 'roles_isCCX', 'roles_isFinance', 'roles_isLibrary', 'roles_isSales', 'forumRoles_isAdmin', 'forumRoles_isCommunityTA', 'forumRoles_isModerator', 'forumRoles_isStudent']\n"
     ]
    }
   ],
   "source": [
    "#count number of na in the dataset \n",
    "cntRow = 0\n",
    "with open('../data/test_data.csv', 'r') as data:\n",
    "    iterData = csv.reader(data)\n",
    "    for row in iterData:\n",
    "        if cntRow == 0:\n",
    "            print(row)\n",
    "        cntRow += 1"
   ]
  },
  {
   "cell_type": "code",
   "execution_count": 6,
   "metadata": {},
   "outputs": [
    {
     "name": "stdout",
     "output_type": "stream",
     "text": [
      "Total number of observations:  6860993\n"
     ]
    }
   ],
   "source": [
    "#output number of observations\n",
    "print('Total number of observations: ', cntRow-1) #subtract one for header row"
   ]
  },
  {
   "cell_type": "code",
   "execution_count": 7,
   "metadata": {},
   "outputs": [],
   "source": [
    "#all columns\n",
    "header = ['course_id', 'user_id', 'registered', 'viewed', 'explored', 'certified', \n",
    "          'completed', 'ip', 'cc_by_ip', 'countryLabel', 'continent', 'city', 'region', \n",
    "          'subdivision', 'postalCode', 'un_major_region', 'un_economic_group', 'un_developing_nation', \n",
    "          'un_special_region', 'latitude', 'longitude', 'LoE', 'YoB', 'gender', 'grade', 'passing_grade', \n",
    "          'start_time', 'first_event', 'last_event', 'nevents', 'ndays_act', 'nplay_video', 'nchapters', \n",
    "          'nforum_posts', 'nforum_votes', 'nforum_endorsed', 'nforum_threads', 'nforum_comments', 'nforum_pinned', \n",
    "          'roles', 'nprogcheck', 'nproblem_check', 'nforum_events', 'mode', 'is_active', 'cert_created_date', \n",
    "          'cert_modified_date', 'cert_status', 'verified_enroll_time', 'verified_unenroll_time', 'profile_country', \n",
    "          'y1_anomalous', 'email_domain', 'language_brwsr', 'language_brwsr_country', 'language_brwsr_sec', \n",
    "          'language_brwsr_sec_country', 'language_brwsr_code', 'language_brwsr_subcode', 'language_brwsr_sec_code', \n",
    "          'language_brwsr_sec_subcode', 'language_brwsr_nevents', 'language_brwsr_ndiff', 'language', 'language_download', \n",
    "          'language_nevents', 'language_ndiff', 'ntranscript', 'nshow_answer', 'nvideo', 'nvideos_unique_viewed', \n",
    "          'nvideos_total_watched', 'nseq_goto', 'nseek_video', 'npause_video', 'avg_dt', 'sdv_dt', 'max_dt', 'n_dt', \n",
    "          'sum_dt', 'roles_isBetaTester', 'roles_isInstructor', 'roles_isStaff', 'roles_isCCX', 'roles_isFinance', \n",
    "          'roles_isLibrary', 'roles_isSales', 'forumRoles_isAdmin', 'forumRoles_isCommunityTA', \n",
    "          'forumRoles_isModerator', 'forumRoles_isStudent']"
   ]
  },
  {
   "cell_type": "code",
   "execution_count": 8,
   "metadata": {},
   "outputs": [],
   "source": [
    "#columns of interest\n",
    "colUSE = ['course_id', 'cc_by_ip', 'LoE', 'YoB', 'gender', 'nevents', 'grade',\n",
    "         # added by lipika may 7\n",
    "         'ndays_act', 'nchapters', 'nforum_posts', 'avg_dt',\n",
    "         # t check for student\n",
    "         'roles']\n",
    "idxUSE = [header.index(x) for x in colUSE]"
   ]
  },
  {
   "cell_type": "code",
   "execution_count": 9,
   "metadata": {},
   "outputs": [
    {
     "data": {
      "text/plain": [
       "[0, 8, 21, 22, 23, 29, 24, 30, 32, 33, 75, 39]"
      ]
     },
     "execution_count": 9,
     "metadata": {},
     "output_type": "execute_result"
    }
   ],
   "source": [
    "idxUSE"
   ]
  },
  {
   "cell_type": "code",
   "execution_count": 10,
   "metadata": {},
   "outputs": [],
   "source": [
    "#count na in cert_status\n",
    "naCertStatus = 0\n",
    "with open('data/test_data.csv', 'r') as data:\n",
    "    iterData = csv.reader(data)\n",
    "    for row in iterData:\n",
    "        if row[47] == '':\n",
    "            naCertStatus += 1"
   ]
  },
  {
   "cell_type": "code",
   "execution_count": 11,
   "metadata": {},
   "outputs": [
    {
     "name": "stdout",
     "output_type": "stream",
     "text": [
      "Number of observations missing certified status:  3692994\n"
     ]
    }
   ],
   "source": [
    "print('Number of observations missing certified status: ', naCertStatus)"
   ]
  },
  {
   "cell_type": "code",
   "execution_count": 12,
   "metadata": {},
   "outputs": [],
   "source": [
    "#count na in grade\n",
    "naGrade = 0\n",
    "with open('data/test_data.csv', 'r') as data:\n",
    "    iterData = csv.reader(data)\n",
    "    for row in iterData:\n",
    "        if row[24] == '':\n",
    "            naGrade += 1"
   ]
  },
  {
   "cell_type": "code",
   "execution_count": 13,
   "metadata": {},
   "outputs": [
    {
     "name": "stdout",
     "output_type": "stream",
     "text": [
      "Number of observations missing grade:  1930278\n"
     ]
    }
   ],
   "source": [
    "print('Number of observations missing grade: ', naGrade)"
   ]
  },
  {
   "cell_type": "code",
   "execution_count": 14,
   "metadata": {},
   "outputs": [],
   "source": [
    "#count na in postalCode\n",
    "naPC = 0\n",
    "with open('data/test_data.csv', 'r') as data:\n",
    "    iterData = csv.reader(data)\n",
    "    for row in iterData:\n",
    "        if row[14] == '':\n",
    "            naPC += 1"
   ]
  },
  {
   "cell_type": "code",
   "execution_count": 15,
   "metadata": {},
   "outputs": [
    {
     "name": "stdout",
     "output_type": "stream",
     "text": [
      "Number of observations missing postal code:  4235651\n"
     ]
    }
   ],
   "source": [
    "print('Number of observations missing postal code: ', naPC)"
   ]
  },
  {
   "cell_type": "code",
   "execution_count": 16,
   "metadata": {},
   "outputs": [],
   "source": [
    "#count na in cc_by_ip\n",
    "naCCIP = 0\n",
    "with open('data/test_data.csv', 'r') as data:\n",
    "    iterData = csv.reader(data)\n",
    "    for row in iterData:\n",
    "        if row[8] == '':\n",
    "            naCCIP += 1"
   ]
  },
  {
   "cell_type": "code",
   "execution_count": 17,
   "metadata": {},
   "outputs": [
    {
     "name": "stdout",
     "output_type": "stream",
     "text": [
      "Number of observations missing cc by ip:  1109868\n"
     ]
    }
   ],
   "source": [
    "print('Number of observations missing cc by ip: ', naCCIP)"
   ]
  },
  {
   "cell_type": "code",
   "execution_count": 18,
   "metadata": {},
   "outputs": [],
   "source": [
    "#check how many student are identified in the dataset\n",
    "numStudent = 0\n",
    "with open('data/test_data.csv', 'r') as data:\n",
    "    iterData = csv.reader(data)\n",
    "    for row in iterData:\n",
    "        if row[90] == '1':\n",
    "            numStudent += 1"
   ]
  },
  {
   "cell_type": "code",
   "execution_count": 19,
   "metadata": {},
   "outputs": [
    {
     "name": "stdout",
     "output_type": "stream",
     "text": [
      "Number of identified students in the dataset:  6860645\n"
     ]
    }
   ],
   "source": [
    "print('Number of identified students in the dataset: ', numStudent)"
   ]
  },
  {
   "cell_type": "code",
   "execution_count": 20,
   "metadata": {},
   "outputs": [],
   "source": [
    "#check how many records are complete\n",
    "#given columns of interest\n",
    "clean = 0\n",
    "with open('data/test_data.csv', 'r') as data:\n",
    "    iterData = csv.reader(data)\n",
    "    for row in iterData:\n",
    "        cols = [row[i] for i in idxUSE]\n",
    "        if '' not in cols:\n",
    "            clean += 1"
   ]
  },
  {
   "cell_type": "code",
   "execution_count": 21,
   "metadata": {},
   "outputs": [
    {
     "name": "stdout",
     "output_type": "stream",
     "text": [
      "Number of observations with complete records:  2790184\n"
     ]
    }
   ],
   "source": [
    "print('Number of observations with complete records: ', clean)"
   ]
  }
 ],
 "metadata": {
  "kernelspec": {
   "display_name": "Python 3",
   "language": "python",
   "name": "python3"
  },
  "language_info": {
   "codemirror_mode": {
    "name": "ipython",
    "version": 3
   },
   "file_extension": ".py",
   "mimetype": "text/x-python",
   "name": "python",
   "nbconvert_exporter": "python",
   "pygments_lexer": "ipython3",
   "version": "3.6.7"
  }
 },
 "nbformat": 4,
 "nbformat_minor": 2
}
