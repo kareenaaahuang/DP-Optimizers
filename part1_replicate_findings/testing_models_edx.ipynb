{
 "cells": [
  {
   "cell_type": "code",
   "execution_count": 1,
   "metadata": {},
   "outputs": [
    {
     "name": "stderr",
     "output_type": "stream",
     "text": [
      "Using TensorFlow backend.\n"
     ]
    }
   ],
   "source": [
    "import pandas as pd\n",
    "pd.set_option('display.max_columns', 500)\n",
    "from sklearn.ensemble import RandomForestClassifier\n",
    "from sklearn.model_selection import train_test_split\n",
    "from utils import getXY\n",
    "import numpy as np\n",
    "import keras"
   ]
  },
  {
   "cell_type": "code",
   "execution_count": 2,
   "metadata": {},
   "outputs": [],
   "source": [
    "cleandf = pd.read_csv('cleanData.csv')\n",
    "cleandf = cleandf[cleandf.roles == 'Student']\n",
    "cleandf.drop(['cc_by_ip', 'roles'], axis=1, inplace=True)"
   ]
  },
  {
   "cell_type": "code",
   "execution_count": 3,
   "metadata": {},
   "outputs": [
    {
     "data": {
      "text/html": [
       "<div>\n",
       "<style scoped>\n",
       "    .dataframe tbody tr th:only-of-type {\n",
       "        vertical-align: middle;\n",
       "    }\n",
       "\n",
       "    .dataframe tbody tr th {\n",
       "        vertical-align: top;\n",
       "    }\n",
       "\n",
       "    .dataframe thead th {\n",
       "        text-align: right;\n",
       "    }\n",
       "</style>\n",
       "<table border=\"1\" class=\"dataframe\">\n",
       "  <thead>\n",
       "    <tr style=\"text-align: right;\">\n",
       "      <th></th>\n",
       "      <th>course_id</th>\n",
       "      <th>LoE</th>\n",
       "      <th>YoB</th>\n",
       "      <th>gender</th>\n",
       "      <th>nevents</th>\n",
       "      <th>grade</th>\n",
       "      <th>ndays_act</th>\n",
       "      <th>nchapters</th>\n",
       "      <th>nforum_posts</th>\n",
       "      <th>avg_dt</th>\n",
       "    </tr>\n",
       "  </thead>\n",
       "  <tbody>\n",
       "    <tr>\n",
       "      <th>0</th>\n",
       "      <td>PH</td>\n",
       "      <td>p</td>\n",
       "      <td>1971</td>\n",
       "      <td>m</td>\n",
       "      <td>1168</td>\n",
       "      <td>0.70</td>\n",
       "      <td>12</td>\n",
       "      <td>5</td>\n",
       "      <td>1</td>\n",
       "      <td>19.838340</td>\n",
       "    </tr>\n",
       "    <tr>\n",
       "      <th>1</th>\n",
       "      <td>ER</td>\n",
       "      <td>b</td>\n",
       "      <td>1986</td>\n",
       "      <td>m</td>\n",
       "      <td>8642</td>\n",
       "      <td>0.61</td>\n",
       "      <td>53</td>\n",
       "      <td>32</td>\n",
       "      <td>2</td>\n",
       "      <td>16.891964</td>\n",
       "    </tr>\n",
       "    <tr>\n",
       "      <th>2</th>\n",
       "      <td>ER</td>\n",
       "      <td>b</td>\n",
       "      <td>1978</td>\n",
       "      <td>m</td>\n",
       "      <td>5923</td>\n",
       "      <td>0.62</td>\n",
       "      <td>31</td>\n",
       "      <td>32</td>\n",
       "      <td>9</td>\n",
       "      <td>12.206571</td>\n",
       "    </tr>\n",
       "    <tr>\n",
       "      <th>3</th>\n",
       "      <td>ER</td>\n",
       "      <td>other</td>\n",
       "      <td>1973</td>\n",
       "      <td>m</td>\n",
       "      <td>6134</td>\n",
       "      <td>0.62</td>\n",
       "      <td>80</td>\n",
       "      <td>32</td>\n",
       "      <td>3</td>\n",
       "      <td>17.667405</td>\n",
       "    </tr>\n",
       "    <tr>\n",
       "      <th>4</th>\n",
       "      <td>ER</td>\n",
       "      <td>hs</td>\n",
       "      <td>1989</td>\n",
       "      <td>f</td>\n",
       "      <td>4788</td>\n",
       "      <td>0.62</td>\n",
       "      <td>42</td>\n",
       "      <td>32</td>\n",
       "      <td>2</td>\n",
       "      <td>22.744499</td>\n",
       "    </tr>\n",
       "  </tbody>\n",
       "</table>\n",
       "</div>"
      ],
      "text/plain": [
       "  course_id    LoE   YoB gender  nevents  grade  ndays_act  nchapters  \\\n",
       "0        PH      p  1971      m     1168   0.70         12          5   \n",
       "1        ER      b  1986      m     8642   0.61         53         32   \n",
       "2        ER      b  1978      m     5923   0.62         31         32   \n",
       "3        ER  other  1973      m     6134   0.62         80         32   \n",
       "4        ER     hs  1989      f     4788   0.62         42         32   \n",
       "\n",
       "   nforum_posts     avg_dt  \n",
       "0             1  19.838340  \n",
       "1             2  16.891964  \n",
       "2             9  12.206571  \n",
       "3             3  17.667405  \n",
       "4             2  22.744499  "
      ]
     },
     "execution_count": 3,
     "metadata": {},
     "output_type": "execute_result"
    }
   ],
   "source": [
    "cleandf.head()"
   ]
  },
  {
   "cell_type": "code",
   "execution_count": 4,
   "metadata": {},
   "outputs": [],
   "source": [
    "def change_to_classes(x):\n",
    "    if x < 0.33:\n",
    "        return 0\n",
    "    elif x < 0.66:\n",
    "        return 1\n",
    "    else:\n",
    "        return 2\n",
    "cleandf['grade_class'] = cleandf['grade'].apply(lambda x: change_to_classes(x))\n",
    "cleandf.drop(['grade'], axis=1, inplace=True)"
   ]
  },
  {
   "cell_type": "code",
   "execution_count": 5,
   "metadata": {},
   "outputs": [
    {
     "name": "stderr",
     "output_type": "stream",
     "text": [
      "/usr/share/anaconda3/lib/python3.6/site-packages/sklearn/preprocessing/data.py:323: DataConversionWarning: Data with input dtype int64, float64 were all converted to float64 by MinMaxScaler.\n",
      "  return self.partial_fit(X, y)\n"
     ]
    },
    {
     "name": "stdout",
     "output_type": "stream",
     "text": [
      "Normalizaton complete.\n",
      "Dummify complete.\n"
     ]
    }
   ],
   "source": [
    "#params\n",
    "response = ['grade_class']\n",
    "clip_cols = ['YoB']\n",
    "clip_vals = [[2013-80, 2018-10], [0, 1]]\n",
    "dummy_cols = ['LoE', 'gender', 'course_id']\n",
    "quant_cols = ['YoB', 'nevents', 'ndays_act', 'nchapters', 'nforum_posts', 'avg_dt']\n",
    "X, Y = getXY(cleandf, response, clip_cols, clip_vals, dummy_cols, quant_cols)\n",
    "\n",
    "#train test split\n",
    "trainX, testX, trainY, testY = train_test_split(X, Y, test_size = 0.20, random_state = 208)"
   ]
  },
  {
   "cell_type": "code",
   "execution_count": 6,
   "metadata": {},
   "outputs": [
    {
     "data": {
      "text/plain": [
       "((146473, 51), (146473, 1), (36619, 51), (36619, 1))"
      ]
     },
     "execution_count": 6,
     "metadata": {},
     "output_type": "execute_result"
    }
   ],
   "source": [
    "trainX.shape, trainY.shape, testX.shape, testY.shape"
   ]
  },
  {
   "cell_type": "code",
   "execution_count": 7,
   "metadata": {},
   "outputs": [
    {
     "data": {
      "text/html": [
       "<div>\n",
       "<style scoped>\n",
       "    .dataframe tbody tr th:only-of-type {\n",
       "        vertical-align: middle;\n",
       "    }\n",
       "\n",
       "    .dataframe tbody tr th {\n",
       "        vertical-align: top;\n",
       "    }\n",
       "\n",
       "    .dataframe thead th {\n",
       "        text-align: right;\n",
       "    }\n",
       "</style>\n",
       "<table border=\"1\" class=\"dataframe\">\n",
       "  <thead>\n",
       "    <tr style=\"text-align: right;\">\n",
       "      <th></th>\n",
       "      <th>YoB</th>\n",
       "      <th>nevents</th>\n",
       "      <th>ndays_act</th>\n",
       "      <th>nchapters</th>\n",
       "      <th>nforum_posts</th>\n",
       "      <th>avg_dt</th>\n",
       "      <th>LoE_a</th>\n",
       "      <th>LoE_b</th>\n",
       "      <th>LoE_el</th>\n",
       "      <th>LoE_hs</th>\n",
       "      <th>LoE_jhs</th>\n",
       "      <th>LoE_m</th>\n",
       "      <th>LoE_none</th>\n",
       "      <th>LoE_other</th>\n",
       "      <th>LoE_p</th>\n",
       "      <th>LoE_p_oth</th>\n",
       "      <th>LoE_p_se</th>\n",
       "      <th>gender_f</th>\n",
       "      <th>gender_m</th>\n",
       "      <th>gender_o</th>\n",
       "      <th>course_id_1368</th>\n",
       "      <th>course_id_AI</th>\n",
       "      <th>course_id_AT</th>\n",
       "      <th>course_id_AmPoX</th>\n",
       "      <th>course_id_BUS</th>\n",
       "      <th>course_id_CB</th>\n",
       "      <th>course_id_CHEM</th>\n",
       "      <th>course_id_CHN</th>\n",
       "      <th>course_id_CalcAPL</th>\n",
       "      <th>course_id_EMC</th>\n",
       "      <th>course_id_ENGSCI</th>\n",
       "      <th>course_id_ER</th>\n",
       "      <th>course_id_FC</th>\n",
       "      <th>course_id_GSD</th>\n",
       "      <th>course_id_GSE</th>\n",
       "      <th>course_id_HDS</th>\n",
       "      <th>course_id_HHP</th>\n",
       "      <th>course_id_HKS</th>\n",
       "      <th>course_id_HLS</th>\n",
       "      <th>course_id_HSPH</th>\n",
       "      <th>course_id_HUM</th>\n",
       "      <th>course_id_Hum</th>\n",
       "      <th>course_id_MCB</th>\n",
       "      <th>course_id_MUS</th>\n",
       "      <th>course_id_PH</th>\n",
       "      <th>course_id_SOC</th>\n",
       "      <th>course_id_SPU</th>\n",
       "      <th>course_id_SW</th>\n",
       "      <th>course_id_USW</th>\n",
       "      <th>course_id_Urban</th>\n",
       "      <th>course_id_VJx</th>\n",
       "    </tr>\n",
       "  </thead>\n",
       "  <tbody>\n",
       "    <tr>\n",
       "      <th>3321</th>\n",
       "      <td>0.760000</td>\n",
       "      <td>0.000695</td>\n",
       "      <td>0.004617</td>\n",
       "      <td>0.200000</td>\n",
       "      <td>0.000531</td>\n",
       "      <td>0.055816</td>\n",
       "      <td>0</td>\n",
       "      <td>0</td>\n",
       "      <td>0</td>\n",
       "      <td>1</td>\n",
       "      <td>0</td>\n",
       "      <td>0</td>\n",
       "      <td>0</td>\n",
       "      <td>0</td>\n",
       "      <td>0</td>\n",
       "      <td>0</td>\n",
       "      <td>0</td>\n",
       "      <td>0</td>\n",
       "      <td>1</td>\n",
       "      <td>0</td>\n",
       "      <td>0</td>\n",
       "      <td>0</td>\n",
       "      <td>0</td>\n",
       "      <td>0</td>\n",
       "      <td>0</td>\n",
       "      <td>0</td>\n",
       "      <td>0</td>\n",
       "      <td>0</td>\n",
       "      <td>0</td>\n",
       "      <td>0</td>\n",
       "      <td>0</td>\n",
       "      <td>0</td>\n",
       "      <td>0</td>\n",
       "      <td>0</td>\n",
       "      <td>0</td>\n",
       "      <td>0</td>\n",
       "      <td>0</td>\n",
       "      <td>0</td>\n",
       "      <td>0</td>\n",
       "      <td>0</td>\n",
       "      <td>0</td>\n",
       "      <td>0</td>\n",
       "      <td>0</td>\n",
       "      <td>0</td>\n",
       "      <td>1</td>\n",
       "      <td>0</td>\n",
       "      <td>0</td>\n",
       "      <td>0</td>\n",
       "      <td>0</td>\n",
       "      <td>0</td>\n",
       "      <td>0</td>\n",
       "    </tr>\n",
       "    <tr>\n",
       "      <th>73051</th>\n",
       "      <td>0.680000</td>\n",
       "      <td>0.000248</td>\n",
       "      <td>0.003412</td>\n",
       "      <td>0.066667</td>\n",
       "      <td>0.000000</td>\n",
       "      <td>0.062323</td>\n",
       "      <td>0</td>\n",
       "      <td>1</td>\n",
       "      <td>0</td>\n",
       "      <td>0</td>\n",
       "      <td>0</td>\n",
       "      <td>0</td>\n",
       "      <td>0</td>\n",
       "      <td>0</td>\n",
       "      <td>0</td>\n",
       "      <td>0</td>\n",
       "      <td>0</td>\n",
       "      <td>0</td>\n",
       "      <td>1</td>\n",
       "      <td>0</td>\n",
       "      <td>0</td>\n",
       "      <td>0</td>\n",
       "      <td>0</td>\n",
       "      <td>0</td>\n",
       "      <td>0</td>\n",
       "      <td>0</td>\n",
       "      <td>0</td>\n",
       "      <td>0</td>\n",
       "      <td>0</td>\n",
       "      <td>0</td>\n",
       "      <td>0</td>\n",
       "      <td>0</td>\n",
       "      <td>0</td>\n",
       "      <td>0</td>\n",
       "      <td>1</td>\n",
       "      <td>0</td>\n",
       "      <td>0</td>\n",
       "      <td>0</td>\n",
       "      <td>0</td>\n",
       "      <td>0</td>\n",
       "      <td>0</td>\n",
       "      <td>0</td>\n",
       "      <td>0</td>\n",
       "      <td>0</td>\n",
       "      <td>0</td>\n",
       "      <td>0</td>\n",
       "      <td>0</td>\n",
       "      <td>0</td>\n",
       "      <td>0</td>\n",
       "      <td>0</td>\n",
       "      <td>0</td>\n",
       "    </tr>\n",
       "    <tr>\n",
       "      <th>66659</th>\n",
       "      <td>0.480000</td>\n",
       "      <td>0.000673</td>\n",
       "      <td>0.001004</td>\n",
       "      <td>0.311111</td>\n",
       "      <td>0.003449</td>\n",
       "      <td>0.078585</td>\n",
       "      <td>0</td>\n",
       "      <td>1</td>\n",
       "      <td>0</td>\n",
       "      <td>0</td>\n",
       "      <td>0</td>\n",
       "      <td>0</td>\n",
       "      <td>0</td>\n",
       "      <td>0</td>\n",
       "      <td>0</td>\n",
       "      <td>0</td>\n",
       "      <td>0</td>\n",
       "      <td>0</td>\n",
       "      <td>1</td>\n",
       "      <td>0</td>\n",
       "      <td>0</td>\n",
       "      <td>0</td>\n",
       "      <td>0</td>\n",
       "      <td>0</td>\n",
       "      <td>0</td>\n",
       "      <td>0</td>\n",
       "      <td>0</td>\n",
       "      <td>0</td>\n",
       "      <td>0</td>\n",
       "      <td>0</td>\n",
       "      <td>0</td>\n",
       "      <td>0</td>\n",
       "      <td>0</td>\n",
       "      <td>0</td>\n",
       "      <td>0</td>\n",
       "      <td>0</td>\n",
       "      <td>0</td>\n",
       "      <td>0</td>\n",
       "      <td>0</td>\n",
       "      <td>0</td>\n",
       "      <td>0</td>\n",
       "      <td>0</td>\n",
       "      <td>0</td>\n",
       "      <td>0</td>\n",
       "      <td>0</td>\n",
       "      <td>0</td>\n",
       "      <td>0</td>\n",
       "      <td>1</td>\n",
       "      <td>0</td>\n",
       "      <td>0</td>\n",
       "      <td>0</td>\n",
       "    </tr>\n",
       "    <tr>\n",
       "      <th>102507</th>\n",
       "      <td>0.706667</td>\n",
       "      <td>0.002651</td>\n",
       "      <td>0.006022</td>\n",
       "      <td>0.177778</td>\n",
       "      <td>0.001061</td>\n",
       "      <td>0.039079</td>\n",
       "      <td>0</td>\n",
       "      <td>0</td>\n",
       "      <td>0</td>\n",
       "      <td>0</td>\n",
       "      <td>0</td>\n",
       "      <td>1</td>\n",
       "      <td>0</td>\n",
       "      <td>0</td>\n",
       "      <td>0</td>\n",
       "      <td>0</td>\n",
       "      <td>0</td>\n",
       "      <td>1</td>\n",
       "      <td>0</td>\n",
       "      <td>0</td>\n",
       "      <td>1</td>\n",
       "      <td>0</td>\n",
       "      <td>0</td>\n",
       "      <td>0</td>\n",
       "      <td>0</td>\n",
       "      <td>0</td>\n",
       "      <td>0</td>\n",
       "      <td>0</td>\n",
       "      <td>0</td>\n",
       "      <td>0</td>\n",
       "      <td>0</td>\n",
       "      <td>0</td>\n",
       "      <td>0</td>\n",
       "      <td>0</td>\n",
       "      <td>0</td>\n",
       "      <td>0</td>\n",
       "      <td>0</td>\n",
       "      <td>0</td>\n",
       "      <td>0</td>\n",
       "      <td>0</td>\n",
       "      <td>0</td>\n",
       "      <td>0</td>\n",
       "      <td>0</td>\n",
       "      <td>0</td>\n",
       "      <td>0</td>\n",
       "      <td>0</td>\n",
       "      <td>0</td>\n",
       "      <td>0</td>\n",
       "      <td>0</td>\n",
       "      <td>0</td>\n",
       "      <td>0</td>\n",
       "    </tr>\n",
       "    <tr>\n",
       "      <th>59348</th>\n",
       "      <td>0.760000</td>\n",
       "      <td>0.000053</td>\n",
       "      <td>0.002007</td>\n",
       "      <td>0.044444</td>\n",
       "      <td>0.000265</td>\n",
       "      <td>0.053437</td>\n",
       "      <td>0</td>\n",
       "      <td>1</td>\n",
       "      <td>0</td>\n",
       "      <td>0</td>\n",
       "      <td>0</td>\n",
       "      <td>0</td>\n",
       "      <td>0</td>\n",
       "      <td>0</td>\n",
       "      <td>0</td>\n",
       "      <td>0</td>\n",
       "      <td>0</td>\n",
       "      <td>1</td>\n",
       "      <td>0</td>\n",
       "      <td>0</td>\n",
       "      <td>1</td>\n",
       "      <td>0</td>\n",
       "      <td>0</td>\n",
       "      <td>0</td>\n",
       "      <td>0</td>\n",
       "      <td>0</td>\n",
       "      <td>0</td>\n",
       "      <td>0</td>\n",
       "      <td>0</td>\n",
       "      <td>0</td>\n",
       "      <td>0</td>\n",
       "      <td>0</td>\n",
       "      <td>0</td>\n",
       "      <td>0</td>\n",
       "      <td>0</td>\n",
       "      <td>0</td>\n",
       "      <td>0</td>\n",
       "      <td>0</td>\n",
       "      <td>0</td>\n",
       "      <td>0</td>\n",
       "      <td>0</td>\n",
       "      <td>0</td>\n",
       "      <td>0</td>\n",
       "      <td>0</td>\n",
       "      <td>0</td>\n",
       "      <td>0</td>\n",
       "      <td>0</td>\n",
       "      <td>0</td>\n",
       "      <td>0</td>\n",
       "      <td>0</td>\n",
       "      <td>0</td>\n",
       "    </tr>\n",
       "  </tbody>\n",
       "</table>\n",
       "</div>"
      ],
      "text/plain": [
       "             YoB   nevents  ndays_act  nchapters  nforum_posts    avg_dt  \\\n",
       "3321    0.760000  0.000695   0.004617   0.200000      0.000531  0.055816   \n",
       "73051   0.680000  0.000248   0.003412   0.066667      0.000000  0.062323   \n",
       "66659   0.480000  0.000673   0.001004   0.311111      0.003449  0.078585   \n",
       "102507  0.706667  0.002651   0.006022   0.177778      0.001061  0.039079   \n",
       "59348   0.760000  0.000053   0.002007   0.044444      0.000265  0.053437   \n",
       "\n",
       "        LoE_a  LoE_b  LoE_el  LoE_hs  LoE_jhs  LoE_m  LoE_none  LoE_other  \\\n",
       "3321        0      0       0       1        0      0         0          0   \n",
       "73051       0      1       0       0        0      0         0          0   \n",
       "66659       0      1       0       0        0      0         0          0   \n",
       "102507      0      0       0       0        0      1         0          0   \n",
       "59348       0      1       0       0        0      0         0          0   \n",
       "\n",
       "        LoE_p  LoE_p_oth  LoE_p_se  gender_f  gender_m  gender_o  \\\n",
       "3321        0          0         0         0         1         0   \n",
       "73051       0          0         0         0         1         0   \n",
       "66659       0          0         0         0         1         0   \n",
       "102507      0          0         0         1         0         0   \n",
       "59348       0          0         0         1         0         0   \n",
       "\n",
       "        course_id_1368  course_id_AI  course_id_AT  course_id_AmPoX  \\\n",
       "3321                 0             0             0                0   \n",
       "73051                0             0             0                0   \n",
       "66659                0             0             0                0   \n",
       "102507               1             0             0                0   \n",
       "59348                1             0             0                0   \n",
       "\n",
       "        course_id_BUS  course_id_CB  course_id_CHEM  course_id_CHN  \\\n",
       "3321                0             0               0              0   \n",
       "73051               0             0               0              0   \n",
       "66659               0             0               0              0   \n",
       "102507              0             0               0              0   \n",
       "59348               0             0               0              0   \n",
       "\n",
       "        course_id_CalcAPL  course_id_EMC  course_id_ENGSCI  course_id_ER  \\\n",
       "3321                    0              0                 0             0   \n",
       "73051                   0              0                 0             0   \n",
       "66659                   0              0                 0             0   \n",
       "102507                  0              0                 0             0   \n",
       "59348                   0              0                 0             0   \n",
       "\n",
       "        course_id_FC  course_id_GSD  course_id_GSE  course_id_HDS  \\\n",
       "3321               0              0              0              0   \n",
       "73051              0              0              1              0   \n",
       "66659              0              0              0              0   \n",
       "102507             0              0              0              0   \n",
       "59348              0              0              0              0   \n",
       "\n",
       "        course_id_HHP  course_id_HKS  course_id_HLS  course_id_HSPH  \\\n",
       "3321                0              0              0               0   \n",
       "73051               0              0              0               0   \n",
       "66659               0              0              0               0   \n",
       "102507              0              0              0               0   \n",
       "59348               0              0              0               0   \n",
       "\n",
       "        course_id_HUM  course_id_Hum  course_id_MCB  course_id_MUS  \\\n",
       "3321                0              0              0              0   \n",
       "73051               0              0              0              0   \n",
       "66659               0              0              0              0   \n",
       "102507              0              0              0              0   \n",
       "59348               0              0              0              0   \n",
       "\n",
       "        course_id_PH  course_id_SOC  course_id_SPU  course_id_SW  \\\n",
       "3321               1              0              0             0   \n",
       "73051              0              0              0             0   \n",
       "66659              0              0              0             1   \n",
       "102507             0              0              0             0   \n",
       "59348              0              0              0             0   \n",
       "\n",
       "        course_id_USW  course_id_Urban  course_id_VJx  \n",
       "3321                0                0              0  \n",
       "73051               0                0              0  \n",
       "66659               0                0              0  \n",
       "102507              0                0              0  \n",
       "59348               0                0              0  "
      ]
     },
     "execution_count": 7,
     "metadata": {},
     "output_type": "execute_result"
    }
   ],
   "source": [
    "trainX.head()"
   ]
  },
  {
   "cell_type": "code",
   "execution_count": 8,
   "metadata": {},
   "outputs": [
    {
     "name": "stdout",
     "output_type": "stream",
     "text": [
      "baseline accuracy - predicting most common class 0.4508116138334826\n"
     ]
    }
   ],
   "source": [
    "print('baseline accuracy - predicting most common class' , trainY.grade_class.value_counts()[0]/len(Y))"
   ]
  },
  {
   "cell_type": "code",
   "execution_count": 9,
   "metadata": {},
   "outputs": [
    {
     "data": {
      "text/plain": [
       "0    82540\n",
       "2    49920\n",
       "1    14013\n",
       "Name: grade_class, dtype: int64"
      ]
     },
     "execution_count": 9,
     "metadata": {},
     "output_type": "execute_result"
    }
   ],
   "source": [
    "trainY.grade_class.value_counts()"
   ]
  },
  {
   "cell_type": "markdown",
   "metadata": {},
   "source": [
    "### Random Forest"
   ]
  },
  {
   "cell_type": "code",
   "execution_count": 10,
   "metadata": {},
   "outputs": [],
   "source": [
    "rfc = RandomForestClassifier(n_estimators=100, min_samples_split = 10)"
   ]
  },
  {
   "cell_type": "code",
   "execution_count": 11,
   "metadata": {},
   "outputs": [],
   "source": [
    "# Y = np.array(Y).reshape(-1,)"
   ]
  },
  {
   "cell_type": "code",
   "execution_count": 12,
   "metadata": {},
   "outputs": [
    {
     "data": {
      "text/plain": [
       "RandomForestClassifier(bootstrap=True, class_weight=None, criterion='gini',\n",
       "            max_depth=None, max_features='auto', max_leaf_nodes=None,\n",
       "            min_impurity_decrease=0.0, min_impurity_split=None,\n",
       "            min_samples_leaf=1, min_samples_split=10,\n",
       "            min_weight_fraction_leaf=0.0, n_estimators=100, n_jobs=None,\n",
       "            oob_score=False, random_state=None, verbose=0,\n",
       "            warm_start=False)"
      ]
     },
     "execution_count": 12,
     "metadata": {},
     "output_type": "execute_result"
    }
   ],
   "source": [
    "rfc.fit(trainX, np.array(trainY).reshape(-1,))"
   ]
  },
  {
   "cell_type": "code",
   "execution_count": 13,
   "metadata": {},
   "outputs": [
    {
     "data": {
      "text/plain": [
       "0.9235558771923836"
      ]
     },
     "execution_count": 13,
     "metadata": {},
     "output_type": "execute_result"
    }
   ],
   "source": [
    "rfc.score(trainX, np.array(trainY).reshape(-1,))"
   ]
  },
  {
   "cell_type": "code",
   "execution_count": 14,
   "metadata": {},
   "outputs": [
    {
     "data": {
      "text/plain": [
       "0.855430241131653"
      ]
     },
     "execution_count": 14,
     "metadata": {},
     "output_type": "execute_result"
    }
   ],
   "source": [
    "rfc.score(testX, np.array(testY).reshape(-1,))"
   ]
  },
  {
   "cell_type": "markdown",
   "metadata": {},
   "source": [
    "### Neural Net"
   ]
  },
  {
   "cell_type": "code",
   "execution_count": 11,
   "metadata": {},
   "outputs": [],
   "source": [
    "nn_trainY = keras.utils.to_categorical(trainY)\n",
    "nn_testY = keras.utils.to_categorical(testY)"
   ]
  },
  {
   "cell_type": "code",
   "execution_count": 12,
   "metadata": {},
   "outputs": [
    {
     "data": {
      "text/plain": [
       "array([[1., 0., 0.],\n",
       "       [0., 0., 1.],\n",
       "       [1., 0., 0.],\n",
       "       ...,\n",
       "       [1., 0., 0.],\n",
       "       [0., 1., 0.],\n",
       "       [0., 1., 0.]], dtype=float32)"
      ]
     },
     "execution_count": 12,
     "metadata": {},
     "output_type": "execute_result"
    }
   ],
   "source": [
    "nn_testY"
   ]
  },
  {
   "cell_type": "code",
   "execution_count": 25,
   "metadata": {},
   "outputs": [],
   "source": [
    "input_dim = trainX.shape[1]\n",
    "\n",
    "# build the model\n",
    "\n",
    "model_nn = keras.Sequential()\n",
    "\n",
    "model_nn.add(keras.layers.Dense(50, input_dim = input_dim, \n",
    "                      activation = 'relu'))\n",
    "\n",
    "model_nn.add(keras.layers.Dense(25, \n",
    "                      activation = 'relu'))\n",
    "\n",
    "model_nn.add(keras.layers.Dense(3, \n",
    "                       activation='sigmoid')) \n",
    "\n",
    "sgd = keras.optimizers.SGD(lr=0.01)\n",
    "\n",
    "# compile the model\n",
    "model_nn.compile(loss='categorical_crossentropy',\n",
    "              optimizer=sgd,\n",
    "              metrics=['acc'])\n"
   ]
  },
  {
   "cell_type": "code",
   "execution_count": 26,
   "metadata": {},
   "outputs": [
    {
     "name": "stdout",
     "output_type": "stream",
     "text": [
      "_________________________________________________________________\n",
      "Layer (type)                 Output Shape              Param #   \n",
      "=================================================================\n",
      "dense_13 (Dense)             (None, 50)                2600      \n",
      "_________________________________________________________________\n",
      "dense_14 (Dense)             (None, 25)                1275      \n",
      "_________________________________________________________________\n",
      "dense_15 (Dense)             (None, 3)                 78        \n",
      "=================================================================\n",
      "Total params: 3,953\n",
      "Trainable params: 3,953\n",
      "Non-trainable params: 0\n",
      "_________________________________________________________________\n"
     ]
    }
   ],
   "source": [
    "model_nn.summary()"
   ]
  },
  {
   "cell_type": "code",
   "execution_count": 27,
   "metadata": {
    "scrolled": false
   },
   "outputs": [
    {
     "name": "stdout",
     "output_type": "stream",
     "text": [
      "Train on 146473 samples, validate on 36619 samples\n",
      "Epoch 1/10\n",
      "146473/146473 [==============================] - 2s 13us/step - loss: 0.9936 - acc: 0.5188 - val_loss: 0.9179 - val_acc: 0.5556\n",
      "Epoch 2/10\n",
      "146473/146473 [==============================] - 2s 12us/step - loss: 0.9053 - acc: 0.5635 - val_loss: 0.9004 - val_acc: 0.5556\n",
      "Epoch 3/10\n",
      "146473/146473 [==============================] - 2s 12us/step - loss: 0.8889 - acc: 0.5637 - val_loss: 0.8817 - val_acc: 0.5572\n",
      "Epoch 4/10\n",
      "146473/146473 [==============================] - 2s 12us/step - loss: 0.8629 - acc: 0.5989 - val_loss: 0.8461 - val_acc: 0.6246\n",
      "Epoch 5/10\n",
      "146473/146473 [==============================] - 2s 12us/step - loss: 0.8129 - acc: 0.6506 - val_loss: 0.7798 - val_acc: 0.6743\n",
      "Epoch 6/10\n",
      "146473/146473 [==============================] - 2s 12us/step - loss: 0.7351 - acc: 0.7045 - val_loss: 0.6924 - val_acc: 0.7272\n",
      "Epoch 7/10\n",
      "146473/146473 [==============================] - 2s 12us/step - loss: 0.6509 - acc: 0.7531 - val_loss: 0.6160 - val_acc: 0.7666\n",
      "Epoch 8/10\n",
      "146473/146473 [==============================] - 2s 12us/step - loss: 0.5924 - acc: 0.7790 - val_loss: 0.5724 - val_acc: 0.7847\n",
      "Epoch 9/10\n",
      "146473/146473 [==============================] - 2s 12us/step - loss: 0.5617 - acc: 0.7882 - val_loss: 0.5511 - val_acc: 0.7886\n",
      "Epoch 10/10\n",
      "146473/146473 [==============================] - 2s 12us/step - loss: 0.5459 - acc: 0.7923 - val_loss: 0.5403 - val_acc: 0.7927\n"
     ]
    }
   ],
   "source": [
    "model_nn_history = model_nn.fit(x = trainX, y = nn_trainY, \n",
    "                                batch_size=256, \n",
    "                                epochs = 10, \n",
    "                                verbose = 1,\n",
    "                                validation_data = (testX, nn_testY))"
   ]
  },
  {
   "cell_type": "code",
   "execution_count": 27,
   "metadata": {},
   "outputs": [],
   "source": [
    "# trainX.to_csv('trainX.csv')\n",
    "# testX.to_csv('testX.csv')\n",
    "# trainY.to_csv('trainY.csv')\n",
    "# testY.to_csv('testY.csv')"
   ]
  },
  {
   "cell_type": "code",
   "execution_count": 17,
   "metadata": {},
   "outputs": [
    {
     "data": {
      "text/plain": [
       "array([2, 1, 0])"
      ]
     },
     "execution_count": 17,
     "metadata": {},
     "output_type": "execute_result"
    }
   ],
   "source": [
    "trainY.grade_class.unique()"
   ]
  },
  {
   "cell_type": "code",
   "execution_count": 28,
   "metadata": {},
   "outputs": [
    {
     "data": {
      "text/plain": [
       "{'val_loss': [0.5242817539507787, 0.505711113183534],\n",
       " 'val_acc': [0.729985369860291, 0.7490465097973102],\n",
       " 'loss': [0.5296937704503817, 0.5131988915805871],\n",
       " 'acc': [0.7211431679973029, 0.7415132485454473]}"
      ]
     },
     "execution_count": 28,
     "metadata": {},
     "output_type": "execute_result"
    }
   ],
   "source": [
    "model_nn_history.history"
   ]
  },
  {
   "cell_type": "code",
   "execution_count": 21,
   "metadata": {},
   "outputs": [],
   "source": [
    "import json\n",
    "# hist = model.fit(X_train, y_train, epochs=5, batch_size=batch_size,validation_split=0.1)\n",
    "with open('edx_model_hist.json', 'w') as f:\n",
    "    json.dump(model_nn_history.history, f)"
   ]
  },
  {
   "cell_type": "code",
   "execution_count": 22,
   "metadata": {},
   "outputs": [],
   "source": [
    "with open('edx_model_hist.json', 'r') as f:\n",
    "    check = json.loads(f.read())"
   ]
  },
  {
   "cell_type": "code",
   "execution_count": 25,
   "metadata": {},
   "outputs": [
    {
     "data": {
      "text/plain": [
       "{'val_loss': [0.5397967763088236],\n",
       " 'val_acc': [0.7039788288129841],\n",
       " 'loss': [0.5764122510158524],\n",
       " 'acc': [0.705556679490453]}"
      ]
     },
     "execution_count": 25,
     "metadata": {},
     "output_type": "execute_result"
    }
   ],
   "source": [
    "check"
   ]
  },
  {
   "cell_type": "code",
   "execution_count": 31,
   "metadata": {},
   "outputs": [
    {
     "data": {
      "text/plain": [
       "-41"
      ]
     },
     "execution_count": 31,
     "metadata": {},
     "output_type": "execute_result"
    }
   ],
   "source": [
    "146473//256 * 256 - 146473"
   ]
  },
  {
   "cell_type": "code",
   "execution_count": null,
   "metadata": {},
   "outputs": [],
   "source": [
    "import tensorflow as tf"
   ]
  },
  {
   "cell_type": "code",
   "execution_count": null,
   "metadata": {},
   "outputs": [],
   "source": []
  },
  {
   "cell_type": "markdown",
   "metadata": {},
   "source": [
    "---"
   ]
  }
 ],
 "metadata": {
  "kernelspec": {
   "display_name": "Python 3",
   "language": "python",
   "name": "python3"
  },
  "language_info": {
   "codemirror_mode": {
    "name": "ipython",
    "version": 3
   },
   "file_extension": ".py",
   "mimetype": "text/x-python",
   "name": "python",
   "nbconvert_exporter": "python",
   "pygments_lexer": "ipython3",
   "version": "3.6.8"
  }
 },
 "nbformat": 4,
 "nbformat_minor": 2
}
