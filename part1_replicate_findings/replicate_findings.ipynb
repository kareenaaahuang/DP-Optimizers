{
 "cells": [
  {
   "cell_type": "markdown",
   "metadata": {},
   "source": [
    "#### Import packages"
   ]
  },
  {
   "cell_type": "code",
   "execution_count": 1,
   "metadata": {},
   "outputs": [
    {
     "name": "stderr",
     "output_type": "stream",
     "text": [
      "Using TensorFlow backend.\n"
     ]
    }
   ],
   "source": [
    "import keras\n",
    "import pandas as pd\n",
    "import numpy as np\n",
    "from keras.datasets import mnist\n",
    "\n",
    "\n",
    "from sklearn.preprocessing import StandardScaler\n",
    "from sklearn.decomposition import PCA\n",
    "\n",
    "from keras.models import Sequential\n",
    "from keras.utils import np_utils\n",
    "from keras.layers import Dense, Dropout, GaussianNoise, Conv1D\n",
    "from keras.preprocessing.image import ImageDataGenerator\n",
    "\n",
    "import matplotlib.pyplot as plt"
   ]
  },
  {
   "cell_type": "markdown",
   "metadata": {},
   "source": [
    "#### Data import and clean"
   ]
  },
  {
   "cell_type": "code",
   "execution_count": 2,
   "metadata": {},
   "outputs": [],
   "source": [
    "# read in mnist dataset\n",
    "(x_train, y_train), (x_test, y_test) = mnist.load_data()\n",
    "\n",
    "# normalize data\n",
    "x_train = x_train/255\n",
    "x_test = x_test/255\n",
    "\n",
    "# get flat datasets for non-conv tasks\n",
    "x_train_flat = x_train.reshape(60000, 28*28)\n",
    "x_test_flat = x_test.reshape(10000, 28*28)\n",
    "\n",
    "# one hot encode targets\n",
    "y_train = keras.utils.to_categorical(y_train, num_classes=None, dtype='float32')\n",
    "y_test = keras.utils.to_categorical(y_test, num_classes=None, dtype='float32')"
   ]
  },
  {
   "cell_type": "markdown",
   "metadata": {},
   "source": [
    "#### Model stuff"
   ]
  },
  {
   "cell_type": "code",
   "execution_count": 3,
   "metadata": {},
   "outputs": [],
   "source": [
    "lot_size = 600"
   ]
  },
  {
   "cell_type": "code",
   "execution_count": 4,
   "metadata": {},
   "outputs": [],
   "source": [
    "## PCA LAYER\n",
    "n_components = 60\n",
    "\n",
    "pca = PCA(n_components=n_components)\n",
    "x_pca_train = pca.fit_transform(x_train_flat)\n",
    "x_pca_test = pca.transform(x_test_flat)\n",
    "pca_std = np.std(x_pca_train)"
   ]
  },
  {
   "cell_type": "code",
   "execution_count": 5,
   "metadata": {},
   "outputs": [],
   "source": [
    "# Neural Net building on PCA\n",
    "model = Sequential()\n",
    "layers = 1\n",
    "units = 1000\n",
    "\n",
    "model.add(Dense(units, input_dim=n_components, activation='relu'))\n",
    "model.add(Dense(10, activation = 'softmax'))\n",
    "\n",
    "model.compile(loss='categorical_crossentropy', optimizer='rmsprop', metrics=['categorical_accuracy'])"
   ]
  },
  {
   "cell_type": "code",
   "execution_count": 6,
   "metadata": {},
   "outputs": [
    {
     "name": "stdout",
     "output_type": "stream",
     "text": [
      "_________________________________________________________________\n",
      "Layer (type)                 Output Shape              Param #   \n",
      "=================================================================\n",
      "dense_1 (Dense)              (None, 1000)              61000     \n",
      "_________________________________________________________________\n",
      "dense_2 (Dense)              (None, 10)                10010     \n",
      "=================================================================\n",
      "Total params: 71,010\n",
      "Trainable params: 71,010\n",
      "Non-trainable params: 0\n",
      "_________________________________________________________________\n"
     ]
    }
   ],
   "source": [
    "model.summary()"
   ]
  },
  {
   "cell_type": "code",
   "execution_count": 7,
   "metadata": {
    "scrolled": true
   },
   "outputs": [
    {
     "name": "stdout",
     "output_type": "stream",
     "text": [
      "Train on 48000 samples, validate on 12000 samples\n",
      "Epoch 1/100\n",
      " - 1s - loss: 0.4942 - categorical_accuracy: 0.8916 - val_loss: 0.2087 - val_categorical_accuracy: 0.9429\n",
      "Epoch 2/100\n",
      " - 0s - loss: 0.1744 - categorical_accuracy: 0.9509 - val_loss: 0.1382 - val_categorical_accuracy: 0.9621\n",
      "Epoch 3/100\n",
      " - 0s - loss: 0.1180 - categorical_accuracy: 0.9680 - val_loss: 0.1082 - val_categorical_accuracy: 0.9700\n",
      "Epoch 4/100\n",
      " - 0s - loss: 0.0882 - categorical_accuracy: 0.9757 - val_loss: 0.0926 - val_categorical_accuracy: 0.9749\n",
      "Epoch 5/100\n",
      " - 0s - loss: 0.0689 - categorical_accuracy: 0.9814 - val_loss: 0.0816 - val_categorical_accuracy: 0.9780\n",
      "Epoch 6/100\n",
      " - 0s - loss: 0.0558 - categorical_accuracy: 0.9855 - val_loss: 0.0761 - val_categorical_accuracy: 0.9792\n",
      "Epoch 7/100\n",
      " - 1s - loss: 0.0459 - categorical_accuracy: 0.9886 - val_loss: 0.0709 - val_categorical_accuracy: 0.9798\n",
      "Epoch 8/100\n",
      " - 0s - loss: 0.0384 - categorical_accuracy: 0.9905 - val_loss: 0.0681 - val_categorical_accuracy: 0.9803\n",
      "Epoch 9/100\n",
      " - 0s - loss: 0.0320 - categorical_accuracy: 0.9922 - val_loss: 0.0643 - val_categorical_accuracy: 0.9812\n",
      "Epoch 10/100\n",
      " - 0s - loss: 0.0268 - categorical_accuracy: 0.9936 - val_loss: 0.0639 - val_categorical_accuracy: 0.9812\n",
      "Epoch 11/100\n",
      " - 1s - loss: 0.0225 - categorical_accuracy: 0.9956 - val_loss: 0.0632 - val_categorical_accuracy: 0.9818\n",
      "Epoch 12/100\n",
      " - 1s - loss: 0.0192 - categorical_accuracy: 0.9963 - val_loss: 0.0617 - val_categorical_accuracy: 0.9825\n",
      "Epoch 13/100\n",
      " - 0s - loss: 0.0157 - categorical_accuracy: 0.9974 - val_loss: 0.0633 - val_categorical_accuracy: 0.9813\n",
      "Epoch 14/100\n",
      " - 0s - loss: 0.0134 - categorical_accuracy: 0.9977 - val_loss: 0.0643 - val_categorical_accuracy: 0.9825\n",
      "Epoch 15/100\n",
      " - 0s - loss: 0.0110 - categorical_accuracy: 0.9987 - val_loss: 0.0631 - val_categorical_accuracy: 0.9823\n",
      "Epoch 16/100\n",
      " - 1s - loss: 0.0093 - categorical_accuracy: 0.9986 - val_loss: 0.0626 - val_categorical_accuracy: 0.9820\n",
      "Epoch 17/100\n",
      " - 1s - loss: 0.0076 - categorical_accuracy: 0.9991 - val_loss: 0.0610 - val_categorical_accuracy: 0.9833\n",
      "Epoch 18/100\n",
      " - 1s - loss: 0.0063 - categorical_accuracy: 0.9994 - val_loss: 0.0609 - val_categorical_accuracy: 0.9833\n",
      "Epoch 19/100\n",
      " - 0s - loss: 0.0053 - categorical_accuracy: 0.9994 - val_loss: 0.0639 - val_categorical_accuracy: 0.9824\n",
      "Epoch 20/100\n",
      " - 0s - loss: 0.0043 - categorical_accuracy: 0.9997 - val_loss: 0.0631 - val_categorical_accuracy: 0.9834\n",
      "Epoch 21/100\n",
      " - 1s - loss: 0.0035 - categorical_accuracy: 0.9998 - val_loss: 0.0651 - val_categorical_accuracy: 0.9831\n",
      "Epoch 22/100\n",
      " - 1s - loss: 0.0030 - categorical_accuracy: 0.9999 - val_loss: 0.0653 - val_categorical_accuracy: 0.9829\n",
      "Epoch 23/100\n",
      " - 1s - loss: 0.0025 - categorical_accuracy: 0.9998 - val_loss: 0.0671 - val_categorical_accuracy: 0.9833\n",
      "Epoch 24/100\n",
      " - 0s - loss: 0.0020 - categorical_accuracy: 0.9999 - val_loss: 0.0674 - val_categorical_accuracy: 0.9837\n",
      "Epoch 25/100\n",
      " - 0s - loss: 0.0016 - categorical_accuracy: 0.9999 - val_loss: 0.0689 - val_categorical_accuracy: 0.9834\n",
      "Epoch 26/100\n",
      " - 0s - loss: 0.0013 - categorical_accuracy: 0.9999 - val_loss: 0.0708 - val_categorical_accuracy: 0.9829\n",
      "Epoch 27/100\n",
      " - 0s - loss: 0.0012 - categorical_accuracy: 0.9999 - val_loss: 0.0690 - val_categorical_accuracy: 0.9847\n",
      "Epoch 28/100\n",
      " - 0s - loss: 9.5712e-04 - categorical_accuracy: 1.0000 - val_loss: 0.0704 - val_categorical_accuracy: 0.9838\n",
      "Epoch 29/100\n",
      " - 0s - loss: 7.3986e-04 - categorical_accuracy: 1.0000 - val_loss: 0.0729 - val_categorical_accuracy: 0.9842\n",
      "Epoch 30/100\n",
      " - 0s - loss: 6.9747e-04 - categorical_accuracy: 0.9999 - val_loss: 0.0738 - val_categorical_accuracy: 0.9836\n",
      "Epoch 31/100\n",
      " - 0s - loss: 4.9409e-04 - categorical_accuracy: 1.0000 - val_loss: 0.0757 - val_categorical_accuracy: 0.9841\n",
      "Epoch 32/100\n",
      " - 0s - loss: 5.2618e-04 - categorical_accuracy: 0.9999 - val_loss: 0.0773 - val_categorical_accuracy: 0.9838\n",
      "Epoch 33/100\n",
      " - 0s - loss: 3.3824e-04 - categorical_accuracy: 1.0000 - val_loss: 0.0793 - val_categorical_accuracy: 0.9831\n",
      "Epoch 34/100\n",
      " - 0s - loss: 3.1993e-04 - categorical_accuracy: 1.0000 - val_loss: 0.0788 - val_categorical_accuracy: 0.9832\n",
      "Epoch 35/100\n",
      " - 0s - loss: 2.3009e-04 - categorical_accuracy: 1.0000 - val_loss: 0.0810 - val_categorical_accuracy: 0.9838\n",
      "Epoch 36/100\n",
      " - 0s - loss: 2.0301e-04 - categorical_accuracy: 1.0000 - val_loss: 0.0842 - val_categorical_accuracy: 0.9832\n",
      "Epoch 37/100\n",
      " - 0s - loss: 1.5951e-04 - categorical_accuracy: 1.0000 - val_loss: 0.0850 - val_categorical_accuracy: 0.9833\n",
      "Epoch 38/100\n",
      " - 0s - loss: 1.3088e-04 - categorical_accuracy: 1.0000 - val_loss: 0.0842 - val_categorical_accuracy: 0.9848\n",
      "Epoch 39/100\n",
      " - 0s - loss: 1.3009e-04 - categorical_accuracy: 1.0000 - val_loss: 0.0863 - val_categorical_accuracy: 0.9838\n",
      "Epoch 40/100\n",
      " - 0s - loss: 9.3478e-05 - categorical_accuracy: 1.0000 - val_loss: 0.0886 - val_categorical_accuracy: 0.9837\n",
      "Epoch 41/100\n",
      " - 0s - loss: 8.5858e-05 - categorical_accuracy: 1.0000 - val_loss: 0.0893 - val_categorical_accuracy: 0.9837\n",
      "Epoch 42/100\n",
      " - 0s - loss: 5.4158e-05 - categorical_accuracy: 1.0000 - val_loss: 0.0901 - val_categorical_accuracy: 0.9839\n",
      "Epoch 43/100\n",
      " - 0s - loss: 5.6680e-05 - categorical_accuracy: 1.0000 - val_loss: 0.0912 - val_categorical_accuracy: 0.9838\n",
      "Epoch 44/100\n",
      " - 0s - loss: 4.0368e-05 - categorical_accuracy: 1.0000 - val_loss: 0.0924 - val_categorical_accuracy: 0.9838\n",
      "Epoch 45/100\n",
      " - 0s - loss: 3.5516e-05 - categorical_accuracy: 1.0000 - val_loss: 0.0989 - val_categorical_accuracy: 0.9826\n",
      "Epoch 46/100\n",
      " - 0s - loss: 2.6979e-05 - categorical_accuracy: 1.0000 - val_loss: 0.0930 - val_categorical_accuracy: 0.9833\n",
      "Epoch 47/100\n",
      " - 0s - loss: 3.3402e-05 - categorical_accuracy: 1.0000 - val_loss: 0.0987 - val_categorical_accuracy: 0.9832\n",
      "Epoch 48/100\n",
      " - 0s - loss: 2.2029e-05 - categorical_accuracy: 1.0000 - val_loss: 0.0969 - val_categorical_accuracy: 0.9837\n",
      "Epoch 49/100\n",
      " - 0s - loss: 1.2867e-05 - categorical_accuracy: 1.0000 - val_loss: 0.0978 - val_categorical_accuracy: 0.9841\n",
      "Epoch 50/100\n",
      " - 0s - loss: 1.2565e-05 - categorical_accuracy: 1.0000 - val_loss: 0.1010 - val_categorical_accuracy: 0.9832\n",
      "Epoch 51/100\n",
      " - 0s - loss: 2.3160e-05 - categorical_accuracy: 1.0000 - val_loss: 0.0999 - val_categorical_accuracy: 0.9843\n",
      "Epoch 52/100\n",
      " - 1s - loss: 6.0776e-06 - categorical_accuracy: 1.0000 - val_loss: 0.1019 - val_categorical_accuracy: 0.9840\n",
      "Epoch 53/100\n",
      " - 0s - loss: 1.1363e-05 - categorical_accuracy: 1.0000 - val_loss: 0.1031 - val_categorical_accuracy: 0.9839\n",
      "Epoch 54/100\n",
      " - 0s - loss: 5.3303e-06 - categorical_accuracy: 1.0000 - val_loss: 0.1044 - val_categorical_accuracy: 0.9838\n",
      "Epoch 55/100\n",
      " - 0s - loss: 5.4637e-06 - categorical_accuracy: 1.0000 - val_loss: 0.1033 - val_categorical_accuracy: 0.9838\n",
      "Epoch 56/100\n",
      " - 0s - loss: 5.6243e-06 - categorical_accuracy: 1.0000 - val_loss: 0.1053 - val_categorical_accuracy: 0.9841\n",
      "Epoch 57/100\n",
      " - 0s - loss: 2.9449e-06 - categorical_accuracy: 1.0000 - val_loss: 0.1067 - val_categorical_accuracy: 0.9836\n",
      "Epoch 58/100\n",
      " - 0s - loss: 2.9080e-06 - categorical_accuracy: 1.0000 - val_loss: 0.1071 - val_categorical_accuracy: 0.9842\n",
      "Epoch 59/100\n",
      " - 0s - loss: 2.1170e-06 - categorical_accuracy: 1.0000 - val_loss: 0.1088 - val_categorical_accuracy: 0.9834\n",
      "Epoch 60/100\n",
      " - 0s - loss: 1.5563e-06 - categorical_accuracy: 1.0000 - val_loss: 0.1096 - val_categorical_accuracy: 0.9839\n",
      "Epoch 61/100\n",
      " - 0s - loss: 1.1635e-06 - categorical_accuracy: 1.0000 - val_loss: 0.1097 - val_categorical_accuracy: 0.9843\n",
      "Epoch 62/100\n",
      " - 1s - loss: 1.0304e-06 - categorical_accuracy: 1.0000 - val_loss: 0.1098 - val_categorical_accuracy: 0.9838\n",
      "Epoch 63/100\n",
      " - 0s - loss: 8.5125e-07 - categorical_accuracy: 1.0000 - val_loss: 0.1122 - val_categorical_accuracy: 0.9838\n",
      "Epoch 64/100\n",
      " - 0s - loss: 7.4633e-07 - categorical_accuracy: 1.0000 - val_loss: 0.1117 - val_categorical_accuracy: 0.9839\n",
      "Epoch 65/100\n",
      " - 0s - loss: 6.9791e-07 - categorical_accuracy: 1.0000 - val_loss: 0.1121 - val_categorical_accuracy: 0.9840\n",
      "Epoch 66/100\n",
      " - 0s - loss: 6.0065e-07 - categorical_accuracy: 1.0000 - val_loss: 0.1123 - val_categorical_accuracy: 0.9838\n",
      "Epoch 67/100\n",
      " - 0s - loss: 5.3376e-07 - categorical_accuracy: 1.0000 - val_loss: 0.1127 - val_categorical_accuracy: 0.9840\n",
      "Epoch 68/100\n",
      " - 1s - loss: 4.8742e-07 - categorical_accuracy: 1.0000 - val_loss: 0.1122 - val_categorical_accuracy: 0.9843\n"
     ]
    },
    {
     "name": "stdout",
     "output_type": "stream",
     "text": [
      "Epoch 69/100\n",
      " - 1s - loss: 4.5446e-07 - categorical_accuracy: 1.0000 - val_loss: 0.1136 - val_categorical_accuracy: 0.9841\n",
      "Epoch 70/100\n",
      " - 0s - loss: 4.2400e-07 - categorical_accuracy: 1.0000 - val_loss: 0.1142 - val_categorical_accuracy: 0.9843\n",
      "Epoch 71/100\n",
      " - 0s - loss: 4.0047e-07 - categorical_accuracy: 1.0000 - val_loss: 0.1138 - val_categorical_accuracy: 0.9839\n",
      "Epoch 72/100\n",
      " - 0s - loss: 3.7841e-07 - categorical_accuracy: 1.0000 - val_loss: 0.1139 - val_categorical_accuracy: 0.9842\n",
      "Epoch 73/100\n",
      " - 0s - loss: 3.6064e-07 - categorical_accuracy: 1.0000 - val_loss: 0.1146 - val_categorical_accuracy: 0.9842\n",
      "Epoch 74/100\n",
      " - 0s - loss: 3.4471e-07 - categorical_accuracy: 1.0000 - val_loss: 0.1148 - val_categorical_accuracy: 0.9841\n",
      "Epoch 75/100\n",
      " - 0s - loss: 3.3260e-07 - categorical_accuracy: 1.0000 - val_loss: 0.1151 - val_categorical_accuracy: 0.9841\n",
      "Epoch 76/100\n",
      " - 0s - loss: 3.1771e-07 - categorical_accuracy: 1.0000 - val_loss: 0.1157 - val_categorical_accuracy: 0.9841\n",
      "Epoch 77/100\n",
      " - 0s - loss: 3.0767e-07 - categorical_accuracy: 1.0000 - val_loss: 0.1154 - val_categorical_accuracy: 0.9838\n",
      "Epoch 78/100\n",
      " - 0s - loss: 2.9878e-07 - categorical_accuracy: 1.0000 - val_loss: 0.1158 - val_categorical_accuracy: 0.9842\n",
      "Epoch 79/100\n",
      " - 0s - loss: 2.8821e-07 - categorical_accuracy: 1.0000 - val_loss: 0.1161 - val_categorical_accuracy: 0.9843\n",
      "Epoch 80/100\n",
      " - 0s - loss: 2.8017e-07 - categorical_accuracy: 1.0000 - val_loss: 0.1161 - val_categorical_accuracy: 0.9842\n",
      "Epoch 81/100\n",
      " - 0s - loss: 2.7348e-07 - categorical_accuracy: 1.0000 - val_loss: 0.1164 - val_categorical_accuracy: 0.9844\n",
      "Epoch 82/100\n",
      " - 0s - loss: 2.6552e-07 - categorical_accuracy: 1.0000 - val_loss: 0.1163 - val_categorical_accuracy: 0.9842\n",
      "Epoch 83/100\n",
      " - 0s - loss: 2.5915e-07 - categorical_accuracy: 1.0000 - val_loss: 0.1168 - val_categorical_accuracy: 0.9843\n",
      "Epoch 84/100\n",
      " - 0s - loss: 2.5317e-07 - categorical_accuracy: 1.0000 - val_loss: 0.1166 - val_categorical_accuracy: 0.9846\n",
      "Epoch 85/100\n",
      " - 0s - loss: 2.4757e-07 - categorical_accuracy: 1.0000 - val_loss: 0.1166 - val_categorical_accuracy: 0.9843\n",
      "Epoch 86/100\n",
      " - 0s - loss: 2.4266e-07 - categorical_accuracy: 1.0000 - val_loss: 0.1171 - val_categorical_accuracy: 0.9841\n",
      "Epoch 87/100\n",
      " - 0s - loss: 2.3753e-07 - categorical_accuracy: 1.0000 - val_loss: 0.1173 - val_categorical_accuracy: 0.9842\n",
      "Epoch 88/100\n",
      " - 0s - loss: 2.3348e-07 - categorical_accuracy: 1.0000 - val_loss: 0.1177 - val_categorical_accuracy: 0.9844\n",
      "Epoch 89/100\n",
      " - 0s - loss: 2.2925e-07 - categorical_accuracy: 1.0000 - val_loss: 0.1174 - val_categorical_accuracy: 0.9843\n",
      "Epoch 90/100\n",
      " - 0s - loss: 2.2548e-07 - categorical_accuracy: 1.0000 - val_loss: 0.1175 - val_categorical_accuracy: 0.9844\n",
      "Epoch 91/100\n",
      " - 0s - loss: 2.2166e-07 - categorical_accuracy: 1.0000 - val_loss: 0.1176 - val_categorical_accuracy: 0.9845\n",
      "Epoch 92/100\n",
      " - 0s - loss: 2.1773e-07 - categorical_accuracy: 1.0000 - val_loss: 0.1182 - val_categorical_accuracy: 0.9842\n",
      "Epoch 93/100\n",
      " - 0s - loss: 2.1459e-07 - categorical_accuracy: 1.0000 - val_loss: 0.1181 - val_categorical_accuracy: 0.9842\n",
      "Epoch 94/100\n",
      " - 0s - loss: 2.1184e-07 - categorical_accuracy: 1.0000 - val_loss: 0.1183 - val_categorical_accuracy: 0.9844\n",
      "Epoch 95/100\n",
      " - 0s - loss: 2.0888e-07 - categorical_accuracy: 1.0000 - val_loss: 0.1182 - val_categorical_accuracy: 0.9843\n",
      "Epoch 96/100\n",
      " - 0s - loss: 2.0639e-07 - categorical_accuracy: 1.0000 - val_loss: 0.1186 - val_categorical_accuracy: 0.9844\n",
      "Epoch 97/100\n",
      " - 0s - loss: 2.0353e-07 - categorical_accuracy: 1.0000 - val_loss: 0.1186 - val_categorical_accuracy: 0.9843\n",
      "Epoch 98/100\n",
      " - 0s - loss: 2.0137e-07 - categorical_accuracy: 1.0000 - val_loss: 0.1187 - val_categorical_accuracy: 0.9843\n",
      "Epoch 99/100\n",
      " - 0s - loss: 1.9896e-07 - categorical_accuracy: 1.0000 - val_loss: 0.1188 - val_categorical_accuracy: 0.9843\n",
      "Epoch 100/100\n",
      " - 0s - loss: 1.9693e-07 - categorical_accuracy: 1.0000 - val_loss: 0.1189 - val_categorical_accuracy: 0.9843\n"
     ]
    },
    {
     "data": {
      "text/plain": [
       "<keras.callbacks.History at 0x1a2fe9b588>"
      ]
     },
     "execution_count": 7,
     "metadata": {},
     "output_type": "execute_result"
    }
   ],
   "source": [
    "model.fit(x_pca_train, y_train, epochs=100, batch_size=lot_size, validation_split=0.2, verbose=2)"
   ]
  },
  {
   "cell_type": "code",
   "execution_count": 8,
   "metadata": {},
   "outputs": [
    {
     "name": "stdout",
     "output_type": "stream",
     "text": [
      "10000/10000 [==============================] - 0s 15us/step\n"
     ]
    },
    {
     "data": {
      "text/plain": [
       "[0.11146881464393714, 0.9843]"
      ]
     },
     "execution_count": 8,
     "metadata": {},
     "output_type": "execute_result"
    }
   ],
   "source": [
    "model.evaluate(x_pca_test, y_test)"
   ]
  },
  {
   "cell_type": "markdown",
   "metadata": {},
   "source": [
    "#### Import DP optimizers - straight from tutorial"
   ]
  },
  {
   "cell_type": "code",
   "execution_count": 2,
   "metadata": {},
   "outputs": [],
   "source": [
    "# import os\n",
    "# os.chdir('../../../privacy')\n",
    "# os.getcwd()\n",
    "from privacy import analysis\n",
    "import sys"
   ]
  },
  {
   "cell_type": "code",
   "execution_count": 3,
   "metadata": {},
   "outputs": [],
   "source": [
    "import tensorflow as tf\n",
    "from privacy.analysis.rdp_accountant import compute_rdp\n",
    "from privacy.analysis.rdp_accountant import get_privacy_spent\n",
    "from privacy.dp_query.gaussian_query import GaussianAverageQuery\n",
    "from privacy.optimizers.dp_optimizer import DPGradientDescentOptimizer"
   ]
  },
  {
   "cell_type": "code",
   "execution_count": 4,
   "metadata": {},
   "outputs": [
    {
     "data": {
      "text/plain": [
       "'1.12.0'"
      ]
     },
     "execution_count": 4,
     "metadata": {},
     "output_type": "execute_result"
    }
   ],
   "source": [
    "tf.VERSION"
   ]
  },
  {
   "cell_type": "code",
   "execution_count": 5,
   "metadata": {},
   "outputs": [],
   "source": [
    "# Compatibility with tf 1 and 2 APIs\n",
    "try:\n",
    "    GradientDescentOptimizer = tf.train.GradientDescentOptimizer\n",
    "except:  # pylint: disable=bare-except\n",
    "    GradientDescentOptimizer = tf.optimizers.SGD  # pylint: disable=invalid-name"
   ]
  },
  {
   "cell_type": "code",
   "execution_count": 6,
   "metadata": {},
   "outputs": [],
   "source": [
    "# Fix for FLAGS returning UnrecognizedFlagError - \n",
    "# https://stackoverflow.com/questions/48198770/tensorflow-1-5-0-rc0-error-using-tf-app-flags\n",
    "\n",
    "FLAGS = tf.flags.FLAGS\n",
    "remaining_args = FLAGS([sys.argv[0]] + [flag for flag in sys.argv if flag.startswith(\"--\")])\n",
    "assert(remaining_args == [sys.argv[0]]) \n",
    "\n",
    "tf.flags.DEFINE_boolean('dpsgd', True, 'If True, train with DP-SGD. If False, '\n",
    "                        'train with vanilla SGD.')\n",
    "tf.flags.DEFINE_float('learning_rate', 0.15, 'Learning rate for training')\n",
    "tf.flags.DEFINE_float('noise_multiplier', 1.1,\n",
    "                      'Ratio of the standard deviation to the clipping norm')\n",
    "tf.flags.DEFINE_float('l2_norm_clip', 1.0, 'Clipping norm')\n",
    "tf.flags.DEFINE_integer('batch_size', 250, 'Batch size')\n",
    "tf.flags.DEFINE_integer('epochs', 60, 'Number of epochs')\n",
    "tf.flags.DEFINE_integer('microbatches', 250, 'Number of microbatches '\n",
    "                        '(must evenly divide batch_size)')\n",
    "tf.flags.DEFINE_string('model_dir', None, 'Model directory')"
   ]
  },
  {
   "cell_type": "code",
   "execution_count": 7,
   "metadata": {},
   "outputs": [
    {
     "data": {
      "text/plain": [
       "250"
      ]
     },
     "execution_count": 7,
     "metadata": {},
     "output_type": "execute_result"
    }
   ],
   "source": [
    "FLAGS.batch_size"
   ]
  },
  {
   "cell_type": "code",
   "execution_count": 8,
   "metadata": {},
   "outputs": [],
   "source": [
    "def load_mnist():\n",
    "    \"\"\"Loads MNIST and preprocesses to combine training and validation data.\"\"\"\n",
    "    train, test = tf.keras.datasets.mnist.load_data()\n",
    "    train_data, train_labels = train\n",
    "    test_data, test_labels = test\n",
    "\n",
    "    train_data = np.array(train_data, dtype=np.float32) / 255\n",
    "    test_data = np.array(test_data, dtype=np.float32) / 255\n",
    "\n",
    "    train_data = train_data.reshape(train_data.shape[0], 28, 28, 1)\n",
    "    test_data = test_data.reshape(test_data.shape[0], 28, 28, 1)\n",
    "\n",
    "    train_labels = np.array(train_labels, dtype=np.int32)\n",
    "    test_labels = np.array(test_labels, dtype=np.int32)\n",
    "\n",
    "    train_labels = tf.keras.utils.to_categorical(train_labels, num_classes=10)\n",
    "    test_labels = tf.keras.utils.to_categorical(test_labels, num_classes=10)\n",
    "\n",
    "    assert train_data.min() == 0.\n",
    "    assert train_data.max() == 1.\n",
    "    assert test_data.min() == 0.\n",
    "    assert test_data.max() == 1.\n",
    "\n",
    "    return train_data, train_labels, test_data, test_labels"
   ]
  },
  {
   "cell_type": "code",
   "execution_count": 9,
   "metadata": {},
   "outputs": [],
   "source": [
    "# def main(unused_argv):\n",
    "tf.logging.set_verbosity(tf.logging.INFO)\n",
    "if FLAGS.batch_size % FLAGS.microbatches != 0:\n",
    "    raise ValueError('Number of microbatches should divide evenly batch_size')"
   ]
  },
  {
   "cell_type": "code",
   "execution_count": 10,
   "metadata": {},
   "outputs": [],
   "source": [
    "# Load training and test data.\n",
    "train_data, train_labels, test_data, test_labels = load_mnist()"
   ]
  },
  {
   "cell_type": "code",
   "execution_count": 12,
   "metadata": {},
   "outputs": [],
   "source": [
    "# Define a sequential Keras model\n",
    "model = tf.keras.Sequential([\n",
    "    tf.keras.layers.Conv2D(16, 8,\n",
    "                            strides=2,\n",
    "                            padding='same',\n",
    "                            activation='relu',\n",
    "                            input_shape=(28, 28, 1)),\n",
    "    \n",
    "    tf.keras.layers.MaxPool2D(2, 1),\n",
    "    tf.keras.layers.Conv2D(32, 4,\n",
    "                             strides=2,\n",
    "                             padding='valid',\n",
    "                             activation='relu'),\n",
    "    \n",
    "    tf.keras.layers.MaxPool2D(2, 1),\n",
    "    tf.keras.layers.Flatten(),\n",
    "    tf.keras.layers.Dense(32, activation='relu'),\n",
    "    tf.keras.layers.Dense(10)\n",
    "  ])"
   ]
  },
  {
   "cell_type": "code",
   "execution_count": 19,
   "metadata": {},
   "outputs": [
    {
     "ename": "TypeError",
     "evalue": "categorical_crossentropy() got an unexpected keyword argument 'reduction'",
     "output_type": "error",
     "traceback": [
      "\u001b[0;31m---------------------------------------------------------------------------\u001b[0m",
      "\u001b[0;31mTypeError\u001b[0m                                 Traceback (most recent call last)",
      "\u001b[0;32m<ipython-input-19-65f25b0fbc95>\u001b[0m in \u001b[0;36m<module>\u001b[0;34m\u001b[0m\n\u001b[1;32m     12\u001b[0m     \u001b[0;31m# Compute vector of per-example loss rather than its mean over a minibatch.\u001b[0m\u001b[0;34m\u001b[0m\u001b[0;34m\u001b[0m\u001b[0;34m\u001b[0m\u001b[0m\n\u001b[1;32m     13\u001b[0m     loss = tf.keras.backend.categorical_crossentropy(\n\u001b[0;32m---> 14\u001b[0;31m                                             from_logits=True, reduction=tf.losses.Reduction.NONE)\n\u001b[0m\u001b[1;32m     15\u001b[0m \u001b[0;34m\u001b[0m\u001b[0m\n\u001b[1;32m     16\u001b[0m \u001b[0;32melse\u001b[0m\u001b[0;34m:\u001b[0m\u001b[0;34m\u001b[0m\u001b[0;34m\u001b[0m\u001b[0m\n",
      "\u001b[0;31mTypeError\u001b[0m: categorical_crossentropy() got an unexpected keyword argument 'reduction'"
     ]
    }
   ],
   "source": [
    "if FLAGS.dpsgd:\n",
    "    dp_average_query = GaussianAverageQuery(\n",
    "                                            FLAGS.l2_norm_clip,\n",
    "                                            FLAGS.l2_norm_clip * FLAGS.noise_multiplier,\n",
    "                                            FLAGS.microbatches)\n",
    "    optimizer = DPGradientDescentOptimizer(\n",
    "                                            dp_average_query,\n",
    "                                            FLAGS.microbatches,\n",
    "                                            learning_rate=FLAGS.learning_rate,\n",
    "                                            unroll_microbatches=True)\n",
    "    \n",
    "    # Compute vector of per-example loss rather than its mean over a minibatch.\n",
    "    loss = tf.keras.backend.categorical_crossentropy(\n",
    "                                            from_logits=True, reduction=tf.losses.Reduction.NONE)\n",
    "\n",
    "else:\n",
    "    \n",
    "\n",
    "#     tensorflow/tensorflow/contrib/keras/python/keras/backend.py\n",
    "    \n",
    "    optimizer = GradientDescentOptimizer(learning_rate=FLAGS.learning_rate)\n",
    "    loss = tf.keras.backend.categorical_crossentropy(from_logits=True)\n",
    "\n",
    "    # Compile model with Keras\n",
    "    model.compile(optimizer=optimizer, loss=loss, metrics=['accuracy'])\n",
    "\n",
    "    # Train model with Keras\n",
    "    model.fit(train_data, train_labels,\n",
    "                        epochs=FLAGS.epochs,\n",
    "                        validation_data=(test_data, test_labels),\n",
    "                        batch_size=FLAGS.batch_size)"
   ]
  },
  {
   "cell_type": "code",
   "execution_count": 16,
   "metadata": {},
   "outputs": [
    {
     "data": {
      "text/plain": [
       "<function tensorflow.python.keras.losses.categorical_crossentropy(y_true, y_pred)>"
      ]
     },
     "execution_count": 16,
     "metadata": {},
     "output_type": "execute_result"
    }
   ],
   "source": [
    "tf.keras.losses.categorical_crossentropy()"
   ]
  },
  {
   "cell_type": "code",
   "execution_count": null,
   "metadata": {},
   "outputs": [],
   "source": [
    "  # Compute the privacy budget expended.\n",
    "  if FLAGS.noise_multiplier == 0.0:\n",
    "    print('Trained with vanilla non-private SGD optimizer')\n",
    "  orders = [1 + x / 10. for x in range(1, 100)] + list(range(12, 64))\n",
    "  sampling_probability = FLAGS.batch_size / 60000\n",
    "  rdp = compute_rdp(q=sampling_probability,\n",
    "                    noise_multiplier=FLAGS.noise_multiplier,\n",
    "                    steps=(FLAGS.epochs * 60000 // FLAGS.batch_size),\n",
    "                    orders=orders)\n",
    "  # Delta is set to 1e-5 because MNIST has 60000 training points.\n",
    "  eps = get_privacy_spent(orders, rdp, target_delta=1e-5)[0]\n",
    "  print('For delta=1e-5, the current epsilon is: %.2f' % eps)"
   ]
  }
 ],
 "metadata": {
  "kernelspec": {
   "display_name": "Python 3",
   "language": "python",
   "name": "python3"
  },
  "language_info": {
   "codemirror_mode": {
    "name": "ipython",
    "version": 3
   },
   "file_extension": ".py",
   "mimetype": "text/x-python",
   "name": "python",
   "nbconvert_exporter": "python",
   "pygments_lexer": "ipython3",
   "version": "3.6.7"
  }
 },
 "nbformat": 4,
 "nbformat_minor": 2
}
