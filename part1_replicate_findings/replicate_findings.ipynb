{
 "cells": [
  {
   "cell_type": "markdown",
   "metadata": {},
   "source": [
    "#### Import packages"
   ]
  },
  {
   "cell_type": "code",
   "execution_count": 8,
   "metadata": {},
   "outputs": [],
   "source": [
    "import keras\n",
    "import pandas as pd\n",
    "import numpy as np\n",
    "from keras.datasets import mnist\n",
    "\n",
    "\n",
    "from sklearn.preprocessing import StandardScaler\n",
    "from sklearn.decomposition import PCA\n",
    "\n",
    "from keras.models import Sequential\n",
    "from keras.utils import np_utils\n",
    "from keras.layers import Dense, Dropout, GaussianNoise, Conv1D\n",
    "from keras.preprocessing.image import ImageDataGenerator\n",
    "\n",
    "import matplotlib.pyplot as plt"
   ]
  },
  {
   "cell_type": "code",
   "execution_count": 27,
   "metadata": {},
   "outputs": [],
   "source": [
    "# read in mnist dataset\n",
    "(x_train, y_train), (x_test, y_test) = mnist.load_data()\n",
    "\n",
    "# normalize data\n",
    "x_train = x_train/255\n",
    "x_test = x_test/255\n",
    "\n",
    "# get flat datasets for non-conv tasks\n",
    "x_train_flat = x_train.reshape(60000, 28*28)\n",
    "x_test_flat = x_test.reshape(10000, 28*28)\n",
    "\n",
    "# one hot encode targets\n",
    "y_train = keras.utils.to_categorical(y_train, num_classes=None, dtype='float32')\n",
    "y_test = keras.utils.to_categorical(y_test, num_classes=None, dtype='float32')"
   ]
  },
  {
   "cell_type": "code",
   "execution_count": 29,
   "metadata": {},
   "outputs": [
    {
     "data": {
      "text/plain": [
       "(10000, 784)"
      ]
     },
     "execution_count": 29,
     "metadata": {},
     "output_type": "execute_result"
    }
   ],
   "source": [
    "x_test_flat.shape"
   ]
  },
  {
   "cell_type": "code",
   "execution_count": 11,
   "metadata": {},
   "outputs": [],
   "source": [
    "lot_size = 600"
   ]
  },
  {
   "cell_type": "code",
   "execution_count": 39,
   "metadata": {},
   "outputs": [
    {
     "name": "stdout",
     "output_type": "stream",
     "text": [
      "(60000, 28, 28)\n",
      "(60000, 60)\n"
     ]
    }
   ],
   "source": [
    "# DO PCA FIRST\n",
    "NCOMPONENTS = 60\n",
    "\n",
    "pca = PCA(n_components=NCOMPONENTS)\n",
    "x_pca_train = pca.fit_transform(x_train_flat)\n",
    "x_pca_test = pca.transform(x_test_flat)\n",
    "pca_std = np.std(x_pca_train)\n",
    "\n",
    "print(x_train.shape)\n",
    "print(x_pca_train.shape)\n"
   ]
  },
  {
   "cell_type": "code",
   "execution_count": 40,
   "metadata": {},
   "outputs": [
    {
     "data": {
      "text/plain": [
       "0.003394439981980862"
      ]
     },
     "execution_count": 40,
     "metadata": {},
     "output_type": "execute_result"
    }
   ],
   "source": [
    "pca_std"
   ]
  },
  {
   "cell_type": "code",
   "execution_count": 37,
   "metadata": {},
   "outputs": [],
   "source": [
    "model = Sequential()\n",
    "layers = 1\n",
    "units = 1000\n",
    "\n",
    "model.add(Dense(units, input_dim=NCOMPONENTS, activation='relu'))\n",
    "model.add(Dense(10, activation = 'softmax'))\n",
    "\n",
    "# # model.add(GaussianNoise(pca_std))\n",
    "# for i in range(layers):\n",
    "#     model.add(Dense(units, activation='relu'))\n",
    "#     model.add(GaussianNoise(pca_std))\n",
    "#     model.add(Dropout(0.1))\n",
    "# model.add(Dense(10, activation='softmax'))\n",
    "\n",
    "model.compile(loss='categorical_crossentropy', optimizer='rmsprop', metrics=['categorical_accuracy'])\n",
    "\n",
    "# model.fit(x_pca_train, y_train, epochs=100, batch_size=lot_size, validation_split=0.1, verbose=2)"
   ]
  },
  {
   "cell_type": "code",
   "execution_count": 36,
   "metadata": {},
   "outputs": [
    {
     "name": "stdout",
     "output_type": "stream",
     "text": [
      "_________________________________________________________________\n",
      "Layer (type)                 Output Shape              Param #   \n",
      "=================================================================\n",
      "dense_3 (Dense)              (None, 1000)              61000     \n",
      "_________________________________________________________________\n",
      "dense_4 (Dense)              (None, 10)                10010     \n",
      "=================================================================\n",
      "Total params: 71,010\n",
      "Trainable params: 71,010\n",
      "Non-trainable params: 0\n",
      "_________________________________________________________________\n"
     ]
    }
   ],
   "source": [
    "model.summary()"
   ]
  },
  {
   "cell_type": "code",
   "execution_count": 38,
   "metadata": {
    "scrolled": true
   },
   "outputs": [
    {
     "name": "stdout",
     "output_type": "stream",
     "text": [
      "Train on 54000 samples, validate on 6000 samples\n",
      "Epoch 1/100\n",
      " - 1s - loss: 2.2449 - categorical_accuracy: 0.2786 - val_loss: 2.1663 - val_categorical_accuracy: 0.5392\n",
      "Epoch 2/100\n",
      " - 1s - loss: 2.0539 - categorical_accuracy: 0.6815 - val_loss: 1.9039 - val_categorical_accuracy: 0.8278\n",
      "Epoch 3/100\n",
      " - 1s - loss: 1.7517 - categorical_accuracy: 0.8007 - val_loss: 1.5531 - val_categorical_accuracy: 0.8383\n",
      "Epoch 4/100\n",
      " - 1s - loss: 1.4001 - categorical_accuracy: 0.8383 - val_loss: 1.1866 - val_categorical_accuracy: 0.8832\n",
      "Epoch 5/100\n",
      " - 1s - loss: 1.0713 - categorical_accuracy: 0.8557 - val_loss: 0.8768 - val_categorical_accuracy: 0.8937\n",
      "Epoch 6/100\n",
      " - 1s - loss: 0.8187 - categorical_accuracy: 0.8666 - val_loss: 0.6581 - val_categorical_accuracy: 0.9050\n",
      "Epoch 7/100\n",
      " - 1s - loss: 0.6478 - categorical_accuracy: 0.8744 - val_loss: 0.5179 - val_categorical_accuracy: 0.9063\n",
      "Epoch 8/100\n",
      " - 1s - loss: 0.5383 - categorical_accuracy: 0.8811 - val_loss: 0.4308 - val_categorical_accuracy: 0.9112\n",
      "Epoch 9/100\n",
      " - 0s - loss: 0.4695 - categorical_accuracy: 0.8862 - val_loss: 0.3770 - val_categorical_accuracy: 0.9138\n",
      "Epoch 10/100\n",
      " - 0s - loss: 0.4264 - categorical_accuracy: 0.8900 - val_loss: 0.3443 - val_categorical_accuracy: 0.9140\n",
      "Epoch 11/100\n",
      " - 0s - loss: 0.3986 - categorical_accuracy: 0.8932 - val_loss: 0.3246 - val_categorical_accuracy: 0.9162\n",
      "Epoch 12/100\n",
      " - 1s - loss: 0.3793 - categorical_accuracy: 0.8959 - val_loss: 0.3061 - val_categorical_accuracy: 0.9203\n",
      "Epoch 13/100\n",
      " - 1s - loss: 0.3653 - categorical_accuracy: 0.8978 - val_loss: 0.2970 - val_categorical_accuracy: 0.9195\n",
      "Epoch 14/100\n",
      " - 1s - loss: 0.3549 - categorical_accuracy: 0.8988 - val_loss: 0.2868 - val_categorical_accuracy: 0.9212\n",
      "Epoch 15/100\n",
      " - 1s - loss: 0.3466 - categorical_accuracy: 0.9009 - val_loss: 0.2808 - val_categorical_accuracy: 0.9217\n",
      "Epoch 16/100\n",
      " - 0s - loss: 0.3398 - categorical_accuracy: 0.9025 - val_loss: 0.2750 - val_categorical_accuracy: 0.9228\n",
      "Epoch 17/100\n",
      " - 0s - loss: 0.3342 - categorical_accuracy: 0.9037 - val_loss: 0.2703 - val_categorical_accuracy: 0.9235\n",
      "Epoch 18/100\n",
      " - 0s - loss: 0.3289 - categorical_accuracy: 0.9051 - val_loss: 0.2652 - val_categorical_accuracy: 0.9245\n",
      "Epoch 19/100\n",
      " - 0s - loss: 0.3244 - categorical_accuracy: 0.9058 - val_loss: 0.2641 - val_categorical_accuracy: 0.9242\n",
      "Epoch 20/100\n",
      " - 0s - loss: 0.3197 - categorical_accuracy: 0.9069 - val_loss: 0.2596 - val_categorical_accuracy: 0.9253\n",
      "Epoch 21/100\n",
      " - 0s - loss: 0.3157 - categorical_accuracy: 0.9084 - val_loss: 0.2557 - val_categorical_accuracy: 0.9280\n",
      "Epoch 22/100\n",
      " - 0s - loss: 0.3119 - categorical_accuracy: 0.9084 - val_loss: 0.2534 - val_categorical_accuracy: 0.9257\n",
      "Epoch 23/100\n",
      " - 1s - loss: 0.3079 - categorical_accuracy: 0.9097 - val_loss: 0.2499 - val_categorical_accuracy: 0.9288\n",
      "Epoch 24/100\n",
      " - 0s - loss: 0.3042 - categorical_accuracy: 0.9114 - val_loss: 0.2459 - val_categorical_accuracy: 0.9280\n",
      "Epoch 25/100\n",
      " - 1s - loss: 0.3005 - categorical_accuracy: 0.9118 - val_loss: 0.2436 - val_categorical_accuracy: 0.9307\n",
      "Epoch 26/100\n",
      " - 1s - loss: 0.2965 - categorical_accuracy: 0.9136 - val_loss: 0.2396 - val_categorical_accuracy: 0.9302\n",
      "Epoch 27/100\n",
      " - 1s - loss: 0.2927 - categorical_accuracy: 0.9141 - val_loss: 0.2376 - val_categorical_accuracy: 0.9307\n",
      "Epoch 28/100\n",
      " - 1s - loss: 0.2892 - categorical_accuracy: 0.9152 - val_loss: 0.2344 - val_categorical_accuracy: 0.9327\n",
      "Epoch 29/100\n",
      " - 1s - loss: 0.2849 - categorical_accuracy: 0.9165 - val_loss: 0.2313 - val_categorical_accuracy: 0.9330\n",
      "Epoch 30/100\n",
      " - 1s - loss: 0.2812 - categorical_accuracy: 0.9170 - val_loss: 0.2272 - val_categorical_accuracy: 0.9348\n",
      "Epoch 31/100\n",
      " - 1s - loss: 0.2773 - categorical_accuracy: 0.9186 - val_loss: 0.2241 - val_categorical_accuracy: 0.9345\n",
      "Epoch 32/100\n",
      " - 1s - loss: 0.2733 - categorical_accuracy: 0.9200 - val_loss: 0.2211 - val_categorical_accuracy: 0.9375\n",
      "Epoch 33/100\n",
      " - 1s - loss: 0.2694 - categorical_accuracy: 0.9219 - val_loss: 0.2192 - val_categorical_accuracy: 0.9380\n",
      "Epoch 34/100\n",
      " - 1s - loss: 0.2650 - categorical_accuracy: 0.9230 - val_loss: 0.2165 - val_categorical_accuracy: 0.9375\n",
      "Epoch 35/100\n",
      " - 1s - loss: 0.2615 - categorical_accuracy: 0.9235 - val_loss: 0.2119 - val_categorical_accuracy: 0.9425\n",
      "Epoch 36/100\n",
      " - 1s - loss: 0.2571 - categorical_accuracy: 0.9248 - val_loss: 0.2082 - val_categorical_accuracy: 0.9410\n",
      "Epoch 37/100\n",
      " - 1s - loss: 0.2530 - categorical_accuracy: 0.9262 - val_loss: 0.2050 - val_categorical_accuracy: 0.9432\n",
      "Epoch 38/100\n",
      " - 1s - loss: 0.2492 - categorical_accuracy: 0.9277 - val_loss: 0.2013 - val_categorical_accuracy: 0.9440\n",
      "Epoch 39/100\n",
      " - 1s - loss: 0.2448 - categorical_accuracy: 0.9285 - val_loss: 0.1984 - val_categorical_accuracy: 0.9452\n",
      "Epoch 40/100\n",
      " - 1s - loss: 0.2410 - categorical_accuracy: 0.9296 - val_loss: 0.1949 - val_categorical_accuracy: 0.9457\n",
      "Epoch 41/100\n",
      " - 1s - loss: 0.2370 - categorical_accuracy: 0.9308 - val_loss: 0.1912 - val_categorical_accuracy: 0.9473\n",
      "Epoch 42/100\n",
      " - 1s - loss: 0.2327 - categorical_accuracy: 0.9321 - val_loss: 0.1902 - val_categorical_accuracy: 0.9468\n",
      "Epoch 43/100\n",
      " - 1s - loss: 0.2287 - categorical_accuracy: 0.9334 - val_loss: 0.1856 - val_categorical_accuracy: 0.9473\n",
      "Epoch 44/100\n",
      " - 1s - loss: 0.2250 - categorical_accuracy: 0.9342 - val_loss: 0.1834 - val_categorical_accuracy: 0.9482\n",
      "Epoch 45/100\n",
      " - 0s - loss: 0.2209 - categorical_accuracy: 0.9356 - val_loss: 0.1789 - val_categorical_accuracy: 0.9502\n",
      "Epoch 46/100\n",
      " - 0s - loss: 0.2171 - categorical_accuracy: 0.9371 - val_loss: 0.1747 - val_categorical_accuracy: 0.9515\n",
      "Epoch 47/100\n",
      " - 0s - loss: 0.2134 - categorical_accuracy: 0.9382 - val_loss: 0.1744 - val_categorical_accuracy: 0.9523\n",
      "Epoch 48/100\n",
      " - 1s - loss: 0.2097 - categorical_accuracy: 0.9392 - val_loss: 0.1697 - val_categorical_accuracy: 0.9542\n",
      "Epoch 49/100\n",
      " - 1s - loss: 0.2063 - categorical_accuracy: 0.9405 - val_loss: 0.1670 - val_categorical_accuracy: 0.9547\n",
      "Epoch 50/100\n",
      " - 1s - loss: 0.2026 - categorical_accuracy: 0.9417 - val_loss: 0.1636 - val_categorical_accuracy: 0.9560\n",
      "Epoch 51/100\n",
      " - 1s - loss: 0.1991 - categorical_accuracy: 0.9422 - val_loss: 0.1610 - val_categorical_accuracy: 0.9573\n",
      "Epoch 52/100\n",
      " - 0s - loss: 0.1958 - categorical_accuracy: 0.9434 - val_loss: 0.1602 - val_categorical_accuracy: 0.9568\n",
      "Epoch 53/100\n",
      " - 0s - loss: 0.1923 - categorical_accuracy: 0.9446 - val_loss: 0.1548 - val_categorical_accuracy: 0.9608\n",
      "Epoch 54/100\n",
      " - 0s - loss: 0.1887 - categorical_accuracy: 0.9454 - val_loss: 0.1545 - val_categorical_accuracy: 0.9588\n",
      "Epoch 55/100\n",
      " - 1s - loss: 0.1858 - categorical_accuracy: 0.9463 - val_loss: 0.1507 - val_categorical_accuracy: 0.9618\n",
      "Epoch 56/100\n",
      " - 1s - loss: 0.1826 - categorical_accuracy: 0.9475 - val_loss: 0.1489 - val_categorical_accuracy: 0.9625\n",
      "Epoch 57/100\n",
      " - 1s - loss: 0.1795 - categorical_accuracy: 0.9481 - val_loss: 0.1475 - val_categorical_accuracy: 0.9618\n",
      "Epoch 58/100\n",
      " - 1s - loss: 0.1764 - categorical_accuracy: 0.9492 - val_loss: 0.1435 - val_categorical_accuracy: 0.9620\n",
      "Epoch 59/100\n",
      " - 0s - loss: 0.1735 - categorical_accuracy: 0.9502 - val_loss: 0.1434 - val_categorical_accuracy: 0.9627\n",
      "Epoch 60/100\n",
      " - 0s - loss: 0.1704 - categorical_accuracy: 0.9511 - val_loss: 0.1396 - val_categorical_accuracy: 0.9642\n",
      "Epoch 61/100\n",
      " - 1s - loss: 0.1674 - categorical_accuracy: 0.9518 - val_loss: 0.1376 - val_categorical_accuracy: 0.9648\n",
      "Epoch 62/100\n",
      " - 1s - loss: 0.1648 - categorical_accuracy: 0.9527 - val_loss: 0.1346 - val_categorical_accuracy: 0.9645\n",
      "Epoch 63/100\n",
      " - 1s - loss: 0.1618 - categorical_accuracy: 0.9534 - val_loss: 0.1337 - val_categorical_accuracy: 0.9657\n",
      "Epoch 64/100\n",
      " - 1s - loss: 0.1592 - categorical_accuracy: 0.9542 - val_loss: 0.1322 - val_categorical_accuracy: 0.9665\n",
      "Epoch 65/100\n",
      " - 1s - loss: 0.1566 - categorical_accuracy: 0.9549 - val_loss: 0.1291 - val_categorical_accuracy: 0.9663\n",
      "Epoch 66/100\n",
      " - 1s - loss: 0.1540 - categorical_accuracy: 0.9558 - val_loss: 0.1271 - val_categorical_accuracy: 0.9668\n",
      "Epoch 67/100\n",
      " - 1s - loss: 0.1515 - categorical_accuracy: 0.9563 - val_loss: 0.1270 - val_categorical_accuracy: 0.9672\n",
      "Epoch 68/100\n",
      " - 1s - loss: 0.1491 - categorical_accuracy: 0.9571 - val_loss: 0.1242 - val_categorical_accuracy: 0.9670\n",
      "Epoch 69/100\n",
      " - 0s - loss: 0.1465 - categorical_accuracy: 0.9579 - val_loss: 0.1222 - val_categorical_accuracy: 0.9687\n"
     ]
    },
    {
     "name": "stdout",
     "output_type": "stream",
     "text": [
      "Epoch 70/100\n",
      " - 0s - loss: 0.1443 - categorical_accuracy: 0.9588 - val_loss: 0.1208 - val_categorical_accuracy: 0.9683\n",
      "Epoch 71/100\n",
      " - 0s - loss: 0.1420 - categorical_accuracy: 0.9595 - val_loss: 0.1190 - val_categorical_accuracy: 0.9693\n",
      "Epoch 72/100\n",
      " - 0s - loss: 0.1397 - categorical_accuracy: 0.9599 - val_loss: 0.1178 - val_categorical_accuracy: 0.9692\n",
      "Epoch 73/100\n",
      " - 0s - loss: 0.1376 - categorical_accuracy: 0.9606 - val_loss: 0.1179 - val_categorical_accuracy: 0.9693\n",
      "Epoch 74/100\n",
      " - 0s - loss: 0.1353 - categorical_accuracy: 0.9608 - val_loss: 0.1137 - val_categorical_accuracy: 0.9698\n",
      "Epoch 75/100\n",
      " - 0s - loss: 0.1331 - categorical_accuracy: 0.9625 - val_loss: 0.1155 - val_categorical_accuracy: 0.9703\n",
      "Epoch 76/100\n",
      " - 0s - loss: 0.1313 - categorical_accuracy: 0.9622 - val_loss: 0.1126 - val_categorical_accuracy: 0.9700\n",
      "Epoch 77/100\n",
      " - 0s - loss: 0.1290 - categorical_accuracy: 0.9632 - val_loss: 0.1126 - val_categorical_accuracy: 0.9707\n",
      "Epoch 78/100\n",
      " - 0s - loss: 0.1273 - categorical_accuracy: 0.9634 - val_loss: 0.1086 - val_categorical_accuracy: 0.9698\n",
      "Epoch 79/100\n",
      " - 0s - loss: 0.1256 - categorical_accuracy: 0.9641 - val_loss: 0.1082 - val_categorical_accuracy: 0.9720\n",
      "Epoch 80/100\n",
      " - 0s - loss: 0.1236 - categorical_accuracy: 0.9646 - val_loss: 0.1064 - val_categorical_accuracy: 0.9712\n",
      "Epoch 81/100\n",
      " - 0s - loss: 0.1217 - categorical_accuracy: 0.9654 - val_loss: 0.1051 - val_categorical_accuracy: 0.9728\n",
      "Epoch 82/100\n",
      " - 1s - loss: 0.1201 - categorical_accuracy: 0.9659 - val_loss: 0.1038 - val_categorical_accuracy: 0.9733\n",
      "Epoch 83/100\n",
      " - 0s - loss: 0.1182 - categorical_accuracy: 0.9664 - val_loss: 0.1029 - val_categorical_accuracy: 0.9732\n",
      "Epoch 84/100\n",
      " - 0s - loss: 0.1166 - categorical_accuracy: 0.9669 - val_loss: 0.1012 - val_categorical_accuracy: 0.9722\n",
      "Epoch 85/100\n",
      " - 0s - loss: 0.1149 - categorical_accuracy: 0.9671 - val_loss: 0.1007 - val_categorical_accuracy: 0.9737\n",
      "Epoch 86/100\n",
      " - 1s - loss: 0.1132 - categorical_accuracy: 0.9680 - val_loss: 0.1003 - val_categorical_accuracy: 0.9730\n",
      "Epoch 87/100\n",
      " - 1s - loss: 0.1117 - categorical_accuracy: 0.9682 - val_loss: 0.0983 - val_categorical_accuracy: 0.9738\n",
      "Epoch 88/100\n",
      " - 0s - loss: 0.1098 - categorical_accuracy: 0.9687 - val_loss: 0.0986 - val_categorical_accuracy: 0.9732\n",
      "Epoch 89/100\n",
      " - 0s - loss: 0.1084 - categorical_accuracy: 0.9690 - val_loss: 0.0967 - val_categorical_accuracy: 0.9747\n",
      "Epoch 90/100\n",
      " - 0s - loss: 0.1071 - categorical_accuracy: 0.9698 - val_loss: 0.0954 - val_categorical_accuracy: 0.9743\n",
      "Epoch 91/100\n",
      " - 0s - loss: 0.1055 - categorical_accuracy: 0.9706 - val_loss: 0.0941 - val_categorical_accuracy: 0.9755\n",
      "Epoch 92/100\n",
      " - 0s - loss: 0.1042 - categorical_accuracy: 0.9710 - val_loss: 0.0934 - val_categorical_accuracy: 0.9752\n",
      "Epoch 93/100\n",
      " - 0s - loss: 0.1028 - categorical_accuracy: 0.9709 - val_loss: 0.0924 - val_categorical_accuracy: 0.9757\n",
      "Epoch 94/100\n",
      " - 0s - loss: 0.1014 - categorical_accuracy: 0.9718 - val_loss: 0.0925 - val_categorical_accuracy: 0.9755\n",
      "Epoch 95/100\n",
      " - 0s - loss: 0.0998 - categorical_accuracy: 0.9719 - val_loss: 0.0913 - val_categorical_accuracy: 0.9752\n",
      "Epoch 96/100\n",
      " - 0s - loss: 0.0987 - categorical_accuracy: 0.9721 - val_loss: 0.0899 - val_categorical_accuracy: 0.9767\n",
      "Epoch 97/100\n",
      " - 0s - loss: 0.0975 - categorical_accuracy: 0.9727 - val_loss: 0.0905 - val_categorical_accuracy: 0.9765\n",
      "Epoch 98/100\n",
      " - 0s - loss: 0.0961 - categorical_accuracy: 0.9727 - val_loss: 0.0888 - val_categorical_accuracy: 0.9757\n",
      "Epoch 99/100\n",
      " - 0s - loss: 0.0949 - categorical_accuracy: 0.9730 - val_loss: 0.0882 - val_categorical_accuracy: 0.9768\n",
      "Epoch 100/100\n",
      " - 0s - loss: 0.0938 - categorical_accuracy: 0.9736 - val_loss: 0.0881 - val_categorical_accuracy: 0.9757\n"
     ]
    },
    {
     "data": {
      "text/plain": [
       "<keras.callbacks.History at 0x1a86ee3940>"
      ]
     },
     "execution_count": 38,
     "metadata": {},
     "output_type": "execute_result"
    }
   ],
   "source": [
    "model.fit(x_pca_train, y_train, epochs=100, batch_size=lot_size, validation_split=0.1, verbose=2)"
   ]
  },
  {
   "cell_type": "code",
   "execution_count": null,
   "metadata": {},
   "outputs": [],
   "source": []
  }
 ],
 "metadata": {
  "kernelspec": {
   "display_name": "Python 3",
   "language": "python",
   "name": "python3"
  },
  "language_info": {
   "codemirror_mode": {
    "name": "ipython",
    "version": 3
   },
   "file_extension": ".py",
   "mimetype": "text/x-python",
   "name": "python",
   "nbconvert_exporter": "python",
   "pygments_lexer": "ipython3",
   "version": "3.6.7"
  }
 },
 "nbformat": 4,
 "nbformat_minor": 2
}
